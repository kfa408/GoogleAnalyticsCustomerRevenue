{
 "cells": [
  {
   "cell_type": "code",
   "execution_count": 1,
   "metadata": {},
   "outputs": [
    {
     "name": "stderr",
     "output_type": "stream",
     "text": [
      "/Users/fanggot/anaconda/lib/python3.5/site-packages/lightgbm/__init__.py:45: FutureWarning: Starting from version 2.2.1, the library file in distribution wheels for macOS will be built by the Apple Clang compiler.\n",
      "This means that in case of installing LightGBM from PyPI via the ``pip install lightgbm`` command, you won't need to install the gcc compiler anymore.\n",
      "Instead of that, you'll need to install the OpenMP library, which is required for running LightGBM on the system with the Apple Clang compiler.\n",
      "You can install the OpenMP library by the following command: ``brew install libomp``.\n",
      "  \"You can install the OpenMP library by the following command: ``brew install libomp``.\", FutureWarning)\n"
     ]
    }
   ],
   "source": [
    "import os\n",
    "import json\n",
    "import numpy as np\n",
    "import pandas as pd\n",
    "from pandas.io.json import json_normalize\n",
    "import matplotlib.pyplot as plt\n",
    "import seaborn as sns\n",
    "color = sns.color_palette()\n",
    "\n",
    "%matplotlib inline\n",
    "\n",
    "from sklearn import model_selection, preprocessing, metrics\n",
    "import lightgbm as lgb\n",
    "\n",
    "pd.options.mode.chained_assignment = None\n",
    "pd.options.display.max_columns = 999"
   ]
  },
  {
   "cell_type": "code",
   "execution_count": 2,
   "metadata": {
    "collapsed": true
   },
   "outputs": [],
   "source": [
    "from sklearn.metrics import confusion_matrix"
   ]
  },
  {
   "cell_type": "code",
   "execution_count": 3,
   "metadata": {
    "collapsed": true
   },
   "outputs": [],
   "source": [
    "from sklearn.metrics import accuracy_score"
   ]
  },
  {
   "cell_type": "code",
   "execution_count": 4,
   "metadata": {
    "collapsed": true
   },
   "outputs": [],
   "source": [
    "import scipy as sp"
   ]
  },
  {
   "cell_type": "code",
   "execution_count": 5,
   "metadata": {
    "collapsed": true
   },
   "outputs": [],
   "source": [
    "data = np.random.rand(1000, 10)  # 500 entities, each contains 10 features\n",
    "label = np.random.randint(2, size=1000)  # binary target\n",
    "train_data = lgb.Dataset(data, label=label)"
   ]
  },
  {
   "cell_type": "code",
   "execution_count": 6,
   "metadata": {
    "collapsed": true
   },
   "outputs": [],
   "source": [
    "param = {'num_leaves':5, 'objective':'binary'}"
   ]
  },
  {
   "cell_type": "code",
   "execution_count": 7,
   "metadata": {
    "collapsed": true
   },
   "outputs": [],
   "source": [
    "param['metric'] = 'auc'"
   ]
  },
  {
   "cell_type": "code",
   "execution_count": 8,
   "metadata": {
    "collapsed": true
   },
   "outputs": [],
   "source": [
    "num_round = 10\n",
    "rst = lgb.cv(param, train_data, num_round, nfold=5)"
   ]
  },
  {
   "cell_type": "code",
   "execution_count": 9,
   "metadata": {
    "collapsed": true
   },
   "outputs": [],
   "source": [
    "num_round = 10\n",
    "bst = lgb.train(param, train_data, num_round)"
   ]
  },
  {
   "cell_type": "code",
   "execution_count": 10,
   "metadata": {},
   "outputs": [
    {
     "data": {
      "text/plain": [
       "array([0.44891314, 0.49297494, 0.47734607, 0.49844786, 0.47421668,\n",
       "       0.47496   , 0.5087721 ])"
      ]
     },
     "execution_count": 10,
     "metadata": {},
     "output_type": "execute_result"
    }
   ],
   "source": [
    "bst.predict(data = np.random.rand(7, 10))"
   ]
  },
  {
   "cell_type": "code",
   "execution_count": null,
   "metadata": {
    "collapsed": true
   },
   "outputs": [],
   "source": []
  },
  {
   "cell_type": "code",
   "execution_count": 11,
   "metadata": {
    "collapsed": true
   },
   "outputs": [],
   "source": [
    "traindata = np.random.normal(size=(2000,10))"
   ]
  },
  {
   "cell_type": "code",
   "execution_count": 12,
   "metadata": {
    "collapsed": true
   },
   "outputs": [],
   "source": [
    "testdata = np.random.normal(size=(10000,10))"
   ]
  },
  {
   "cell_type": "code",
   "execution_count": 13,
   "metadata": {
    "collapsed": true
   },
   "outputs": [],
   "source": [
    "label = np.array([ 1 if np.dot(i,i) > 9.34 else 0 for i in traindata ])"
   ]
  },
  {
   "cell_type": "code",
   "execution_count": 14,
   "metadata": {},
   "outputs": [
    {
     "data": {
      "text/plain": [
       "array([0, 1, 1, ..., 0, 0, 1])"
      ]
     },
     "execution_count": 14,
     "metadata": {},
     "output_type": "execute_result"
    }
   ],
   "source": [
    "label"
   ]
  },
  {
   "cell_type": "code",
   "execution_count": 15,
   "metadata": {
    "collapsed": true
   },
   "outputs": [],
   "source": [
    "testlabel = np.array([ 1 if np.dot(i,i) > 9.34 else 0 for i in testdata ])"
   ]
  },
  {
   "cell_type": "code",
   "execution_count": 16,
   "metadata": {
    "collapsed": true
   },
   "outputs": [],
   "source": [
    "train_data = lgb.Dataset(traindata, label=label)\n",
    "test_data = lgb.Dataset(testdata, label=testlabel)"
   ]
  },
  {
   "cell_type": "code",
   "execution_count": 17,
   "metadata": {
    "collapsed": true
   },
   "outputs": [],
   "source": [
    "param = {'objective': 'binary', 'num_leaves': 5, 'bagging_fraction': 0.7, \n",
    "         'learning_rate': 0.1, 'min_child_samples': 50, 'bagging_freq': 5, 'bagging_seed': 1111 }"
   ]
  },
  {
   "cell_type": "code",
   "execution_count": 18,
   "metadata": {
    "collapsed": true
   },
   "outputs": [],
   "source": [
    "bst = lgb.train(param, train_data, 1)"
   ]
  },
  {
   "cell_type": "code",
   "execution_count": 19,
   "metadata": {
    "collapsed": true
   },
   "outputs": [],
   "source": [
    "predf = bst.predict(testdata)"
   ]
  },
  {
   "cell_type": "code",
   "execution_count": 20,
   "metadata": {
    "collapsed": true
   },
   "outputs": [],
   "source": [
    "predb = [1 if i>.5 else 0 for i in predf]"
   ]
  },
  {
   "cell_type": "code",
   "execution_count": 21,
   "metadata": {
    "collapsed": true
   },
   "outputs": [],
   "source": [
    "cm = confusion_matrix(testlabel, predb)\n",
    "accuracy = accuracy_score(testlabel, predb)"
   ]
  },
  {
   "cell_type": "code",
   "execution_count": 22,
   "metadata": {},
   "outputs": [
    {
     "data": {
      "text/plain": [
       "array([[3909, 1090],\n",
       "       [2688, 2313]])"
      ]
     },
     "execution_count": 22,
     "metadata": {},
     "output_type": "execute_result"
    }
   ],
   "source": [
    "cm"
   ]
  },
  {
   "cell_type": "code",
   "execution_count": 23,
   "metadata": {},
   "outputs": [
    {
     "data": {
      "text/plain": [
       "0.6222"
      ]
     },
     "execution_count": 23,
     "metadata": {},
     "output_type": "execute_result"
    }
   ],
   "source": [
    "accuracy"
   ]
  },
  {
   "cell_type": "code",
   "execution_count": 24,
   "metadata": {
    "collapsed": true
   },
   "outputs": [],
   "source": [
    "acclist = []\n",
    "for j in range(1, 400):\n",
    "    bst = lgb.train(param, train_data, j)\n",
    "    predf = bst.predict(testdata)\n",
    "    predb = [1 if i>.5 else 0 for i in predf]\n",
    "#     cm = confusion_matrix(testlabel, predb)\n",
    "    accuracy = accuracy_score(testlabel, predb)\n",
    "#     print(accuracy)\n",
    "    acclist.append(accuracy)\n",
    "# print(acclist)"
   ]
  },
  {
   "cell_type": "code",
   "execution_count": 25,
   "metadata": {},
   "outputs": [
    {
     "name": "stderr",
     "output_type": "stream",
     "text": [
      "/Users/fanggot/anaconda/lib/python3.5/site-packages/seaborn/categorical.py:1428: FutureWarning: remove_na is deprecated and is a private function. Do not use.\n",
      "  stat_data = remove_na(group_data)\n"
     ]
    },
    {
     "data": {
      "text/plain": [
       "<matplotlib.axes._subplots.AxesSubplot at 0x1217ee588>"
      ]
     },
     "execution_count": 25,
     "metadata": {},
     "output_type": "execute_result"
    },
    {
     "data": {
      "image/png": "[encoded data removed]",
      "text/plain": [
       "<matplotlib.figure.Figure at 0x1211deda0>"
      ]
     },
     "metadata": {},
     "output_type": "display_data"
    }
   ],
   "source": [
    "npalist = np.array(acclist)\n",
    "plt.subplots(figsize=(20,20))\n",
    "sns.pointplot(x = [i for i in range(1,400)], y = npalist)"
   ]
  },
  {
   "cell_type": "code",
   "execution_count": 26,
   "metadata": {},
   "outputs": [
    {
     "name": "stdout",
     "output_type": "stream",
     "text": [
      "Training until validation scores don't improve for 50 rounds.\n",
      "[100]\tvalid_0's binary_logloss: 0.344044\n",
      "[200]\tvalid_0's binary_logloss: 0.263743\n",
      "[300]\tvalid_0's binary_logloss: 0.227326\n",
      "[400]\tvalid_0's binary_logloss: 0.215043\n",
      "[500]\tvalid_0's binary_logloss: 0.210512\n",
      "[600]\tvalid_0's binary_logloss: 0.206578\n",
      "Early stopping, best iteration is:\n",
      "[595]\tvalid_0's binary_logloss: 0.205464\n"
     ]
    }
   ],
   "source": [
    "bst = lgb.train(param, train_data, 1000, valid_sets= test_data, early_stopping_rounds=50\n",
    "                , verbose_eval=100)"
   ]
  },
  {
   "cell_type": "code",
   "execution_count": 27,
   "metadata": {
    "collapsed": true
   },
   "outputs": [],
   "source": [
    "predf = bst.predict(testdata, num_iteration=bst.best_iteration)\n",
    "predb = [1 if i>.5 else 0 for i in predf]\n",
    "cm = confusion_matrix(testlabel, predb)\n",
    "accuracy = accuracy_score(testlabel, predb)"
   ]
  },
  {
   "cell_type": "code",
   "execution_count": 28,
   "metadata": {},
   "outputs": [
    {
     "data": {
      "text/plain": [
       "array([[4518,  481],\n",
       "       [ 418, 4583]])"
      ]
     },
     "execution_count": 28,
     "metadata": {},
     "output_type": "execute_result"
    }
   ],
   "source": [
    "cm"
   ]
  },
  {
   "cell_type": "code",
   "execution_count": 29,
   "metadata": {},
   "outputs": [
    {
     "data": {
      "text/plain": [
       "0.9101"
      ]
     },
     "execution_count": 29,
     "metadata": {},
     "output_type": "execute_result"
    }
   ],
   "source": [
    "accuracy"
   ]
  },
  {
   "cell_type": "code",
   "execution_count": 30,
   "metadata": {
    "collapsed": true
   },
   "outputs": [],
   "source": [
    "testdata2 = np.random.normal(size=(10000,10))\n",
    "testlabel2 = np.array([ 1 if np.dot(i,i) > 9.34 else 0 for i in testdata2 ])\n",
    "test_data2 = lgb.Dataset(testdata2, label=testlabel2)"
   ]
  },
  {
   "cell_type": "code",
   "execution_count": 31,
   "metadata": {
    "collapsed": true
   },
   "outputs": [],
   "source": [
    "predf = bst.predict(testdata2, num_iteration=bst.best_iteration)\n",
    "predb = [1 if i>.5 else 0 for i in predf]\n",
    "cm = confusion_matrix(testlabel2, predb)\n",
    "accuracy = accuracy_score(testlabel2, predb)"
   ]
  },
  {
   "cell_type": "code",
   "execution_count": 32,
   "metadata": {},
   "outputs": [
    {
     "data": {
      "text/plain": [
       "0.9146"
      ]
     },
     "execution_count": 32,
     "metadata": {},
     "output_type": "execute_result"
    }
   ],
   "source": [
    "accuracy"
   ]
  },
  {
   "cell_type": "code",
   "execution_count": 33,
   "metadata": {},
   "outputs": [
    {
     "data": {
      "image/png": "[encoded data removed]",
      "text/plain": [
       "<matplotlib.figure.Figure at 0x121ee5630>"
      ]
     },
     "metadata": {},
     "output_type": "display_data"
    }
   ],
   "source": [
    "fig, ax = plt.subplots(figsize=(12,18))\n",
    "lgb.plot_importance(bst, ax = ax)\n",
    "ax.grid(False)"
   ]
  },
  {
   "cell_type": "code",
   "execution_count": 34,
   "metadata": {},
   "outputs": [
    {
     "data": {
      "text/plain": [
       "{'binary_logloss-mean': [0.683348661675958,\n",
       "  0.6734615561670396,\n",
       "  0.6647756725568412,\n",
       "  0.6583548554498548,\n",
       "  0.6487900573235041,\n",
       "  0.6411177281312461,\n",
       "  0.6329954247042282,\n",
       "  0.6252423517517179,\n",
       "  0.6198199552833943,\n",
       "  0.6130065592321505,\n",
       "  0.6060612279660891,\n",
       "  0.5998530615154912,\n",
       "  0.5940890724306886,\n",
       "  0.5881920653003829,\n",
       "  0.5832227566353312,\n",
       "  0.5768025614624626,\n",
       "  0.5715119605710883,\n",
       "  0.5654681991237548,\n",
       "  0.5603372036347594,\n",
       "  0.5552349125280696,\n",
       "  0.5499723099825353,\n",
       "  0.5445841033338147,\n",
       "  0.5402933162573559,\n",
       "  0.5360322035593594,\n",
       "  0.5312115433908688,\n",
       "  0.5263448111019798,\n",
       "  0.5220077409079567,\n",
       "  0.5174875860900409,\n",
       "  0.5133616025298924,\n",
       "  0.5091312528828565,\n",
       "  0.5050106099193772,\n",
       "  0.5006200363815124,\n",
       "  0.4977834598299552,\n",
       "  0.49470699428300796,\n",
       "  0.4907082182308928,\n",
       "  0.48647949064333507,\n",
       "  0.4827640519321803,\n",
       "  0.479415838602052,\n",
       "  0.4763577452540895,\n",
       "  0.4729032608917431,\n",
       "  0.46873772847792095,\n",
       "  0.4657858867814075,\n",
       "  0.46235465484075816,\n",
       "  0.4595371732256254,\n",
       "  0.45679166225653284,\n",
       "  0.4538230993901145,\n",
       "  0.45103962082494437,\n",
       "  0.44893682442659244,\n",
       "  0.4469711716011651,\n",
       "  0.44558519241912775,\n",
       "  0.44258986136836176,\n",
       "  0.4399069607664824,\n",
       "  0.4372710047972572,\n",
       "  0.43546837261647564,\n",
       "  0.43251486468816447,\n",
       "  0.42965615043107225,\n",
       "  0.427691184143835,\n",
       "  0.4246864958140512,\n",
       "  0.4221567595866973,\n",
       "  0.4202257935476057,\n",
       "  0.4166467305370992,\n",
       "  0.4138963720795027,\n",
       "  0.41125483333175944,\n",
       "  0.4087082144078324,\n",
       "  0.40665966125757685,\n",
       "  0.4044217394486,\n",
       "  0.40219760441234775,\n",
       "  0.4007199212176572,\n",
       "  0.39937280093954153,\n",
       "  0.39768124967979646,\n",
       "  0.39516300760245887,\n",
       "  0.39359712837294314,\n",
       "  0.391499872840971,\n",
       "  0.38970868868635333,\n",
       "  0.3879597643023511,\n",
       "  0.38619659033363646,\n",
       "  0.38403526753379097,\n",
       "  0.3822752655254522,\n",
       "  0.3807866556915994,\n",
       "  0.3796810377797303,\n",
       "  0.37808984018096237,\n",
       "  0.3768909929434804,\n",
       "  0.375393636298168,\n",
       "  0.3742201562247901,\n",
       "  0.3727872732657297,\n",
       "  0.3714444872934102,\n",
       "  0.36974057551878503,\n",
       "  0.3687132935791129,\n",
       "  0.3678168852860774,\n",
       "  0.36674588893717724,\n",
       "  0.36532012325253976,\n",
       "  0.3639423723198409,\n",
       "  0.36288977907493947,\n",
       "  0.3610668950023749,\n",
       "  0.36002863817008024,\n",
       "  0.3581656364523877,\n",
       "  0.35673798606043844,\n",
       "  0.3558259461858511,\n",
       "  0.35470183108089837,\n",
       "  0.3542478325668238,\n",
       "  0.353082507115262,\n",
       "  0.35162347691949264,\n",
       "  0.35109018815078485,\n",
       "  0.3497189747909322,\n",
       "  0.34909533805144344,\n",
       "  0.34711854440491197,\n",
       "  0.34634271317888593,\n",
       "  0.3453742890220053,\n",
       "  0.3443968767040784,\n",
       "  0.3436312771842923,\n",
       "  0.3423886733390019,\n",
       "  0.3406927836731108,\n",
       "  0.3393893637073598,\n",
       "  0.33827937226041643,\n",
       "  0.33689571675526714,\n",
       "  0.3363061788184796,\n",
       "  0.33556330052895117,\n",
       "  0.3350715822419755,\n",
       "  0.3340956120055577,\n",
       "  0.3334900667497931,\n",
       "  0.3322847226600104,\n",
       "  0.3308790047301951,\n",
       "  0.33012438067034366,\n",
       "  0.32919931569207045,\n",
       "  0.32797679490521514,\n",
       "  0.3269054973985066,\n",
       "  0.3258001580885541,\n",
       "  0.32517993653912675,\n",
       "  0.32419842237132973,\n",
       "  0.3235268159222871,\n",
       "  0.3226240648866773,\n",
       "  0.32153898971233785,\n",
       "  0.3203628716384405,\n",
       "  0.3194045948011116,\n",
       "  0.3183694992049267,\n",
       "  0.3173086417883189,\n",
       "  0.3162228157892022,\n",
       "  0.31534433066562084,\n",
       "  0.31475429157422063,\n",
       "  0.3141820847578298,\n",
       "  0.31290001775323517,\n",
       "  0.3123751702110864,\n",
       "  0.3115018840113938,\n",
       "  0.3111540850337248,\n",
       "  0.31078948163100567,\n",
       "  0.30963526266638974,\n",
       "  0.30863780566434806,\n",
       "  0.30800583481191207,\n",
       "  0.30737141186554584,\n",
       "  0.3072211198577326,\n",
       "  0.3067565547155049,\n",
       "  0.30635900713566133,\n",
       "  0.3059246739775797,\n",
       "  0.3055945070318419,\n",
       "  0.3050933269317169,\n",
       "  0.30397401483028885,\n",
       "  0.30313765612620225,\n",
       "  0.3021803877070768,\n",
       "  0.301472517267093,\n",
       "  0.3006615552548413,\n",
       "  0.2993455999755551,\n",
       "  0.29866945051639265,\n",
       "  0.2975287389851552,\n",
       "  0.2972112486361326,\n",
       "  0.2966864256924967,\n",
       "  0.2958889220067402,\n",
       "  0.29530273115575384,\n",
       "  0.2945747601981848,\n",
       "  0.2938127252775683,\n",
       "  0.2931759373223414,\n",
       "  0.2922766632530634,\n",
       "  0.29174709124531856,\n",
       "  0.2911042102510377,\n",
       "  0.29053082808194675,\n",
       "  0.29051621332232686,\n",
       "  0.2900126396412638,\n",
       "  0.2895143513506066,\n",
       "  0.28924643832709196,\n",
       "  0.2886684035351424,\n",
       "  0.288524781028887,\n",
       "  0.2880985232613786,\n",
       "  0.2877952533717291,\n",
       "  0.287399849202996,\n",
       "  0.2869980509575838,\n",
       "  0.2863371189516191,\n",
       "  0.28606604544335906,\n",
       "  0.28531034351729007,\n",
       "  0.28468526451136367,\n",
       "  0.2841081622489784,\n",
       "  0.28369266845474905,\n",
       "  0.2826114175408221,\n",
       "  0.2824945309751708,\n",
       "  0.2816511971076836,\n",
       "  0.28112742957799425,\n",
       "  0.28034588370295543,\n",
       "  0.28010998619800204,\n",
       "  0.2798977154946035,\n",
       "  0.279294797991789,\n",
       "  0.27896830178742216,\n",
       "  0.27856700786022576,\n",
       "  0.2782596284676079,\n",
       "  0.27802978174733345,\n",
       "  0.27801978434508995,\n",
       "  0.27824256823196325,\n",
       "  0.27804222948932533,\n",
       "  0.2775541252464268,\n",
       "  0.2770565027102468,\n",
       "  0.27632446880003964,\n",
       "  0.2758602002248469,\n",
       "  0.2756718544146698,\n",
       "  0.27520248812785547,\n",
       "  0.27482662423635185,\n",
       "  0.27471849907576257,\n",
       "  0.27449952259361854,\n",
       "  0.2741087807596469,\n",
       "  0.27353965979996414,\n",
       "  0.2732935780836026,\n",
       "  0.2729427654125404,\n",
       "  0.27252777766242364,\n",
       "  0.2721464535216063,\n",
       "  0.2719967838384191,\n",
       "  0.27189662725543073,\n",
       "  0.27152915825900414,\n",
       "  0.2715169184289038,\n",
       "  0.2718092925283918,\n",
       "  0.27164387802290785,\n",
       "  0.2711692154059756,\n",
       "  0.27108567660111854,\n",
       "  0.270366102066335,\n",
       "  0.2700769256570738,\n",
       "  0.2701748552669963,\n",
       "  0.27020375893904525,\n",
       "  0.2698168476130326,\n",
       "  0.26931327911239716,\n",
       "  0.2691144330707024,\n",
       "  0.2687587927360273,\n",
       "  0.2681680187813281,\n",
       "  0.2678242731433754,\n",
       "  0.2675798616055567,\n",
       "  0.267280142501941,\n",
       "  0.26729485863922775,\n",
       "  0.26720495843444925,\n",
       "  0.26742512242327676,\n",
       "  0.26737752796518477,\n",
       "  0.26761039420068283,\n",
       "  0.2674839392479985,\n",
       "  0.2672384423299345,\n",
       "  0.2672395119755836,\n",
       "  0.266745493453168,\n",
       "  0.2667689948963493,\n",
       "  0.2663933508484316,\n",
       "  0.265930989230201,\n",
       "  0.2655525575416352,\n",
       "  0.26522990958775283,\n",
       "  0.2650544361597904,\n",
       "  0.2648526950377743,\n",
       "  0.2648185889531889,\n",
       "  0.26444083141497376,\n",
       "  0.2641566319960767,\n",
       "  0.26397925803513017,\n",
       "  0.2635642562801531,\n",
       "  0.26327477202558486,\n",
       "  0.26271348818741347,\n",
       "  0.26302330348921,\n",
       "  0.26280248838298903,\n",
       "  0.26200091076089743,\n",
       "  0.26190517753437215,\n",
       "  0.2617759105620459,\n",
       "  0.26146992613655407,\n",
       "  0.2613725150302878,\n",
       "  0.26103415179988937,\n",
       "  0.2608971653179514,\n",
       "  0.26093810824145314,\n",
       "  0.2604794681737872,\n",
       "  0.26012682333835674,\n",
       "  0.2596954437137072,\n",
       "  0.2596097840827918,\n",
       "  0.25912428138576243,\n",
       "  0.25876385863940454,\n",
       "  0.2585065433418036,\n",
       "  0.25834107810656576,\n",
       "  0.25771464945963335,\n",
       "  0.2574821347553342,\n",
       "  0.2571337204132814,\n",
       "  0.2571493317110548,\n",
       "  0.2564577699595098,\n",
       "  0.25663467144310326,\n",
       "  0.2561202955374515,\n",
       "  0.255975659887964,\n",
       "  0.25593374879755826,\n",
       "  0.25584142972965723,\n",
       "  0.2555950452421139,\n",
       "  0.2558242366651172,\n",
       "  0.25583490574111184,\n",
       "  0.2558084619432508,\n",
       "  0.2557440880718051,\n",
       "  0.25589016221360855,\n",
       "  0.25565460037482546,\n",
       "  0.25530346207797616,\n",
       "  0.2555090040295257,\n",
       "  0.2546013685608633,\n",
       "  0.2543443989684346,\n",
       "  0.2537000995261325,\n",
       "  0.2536195916353893,\n",
       "  0.2533735825143483,\n",
       "  0.25344480717387674,\n",
       "  0.25313480699578705,\n",
       "  0.25333161623112344,\n",
       "  0.25333322866842667,\n",
       "  0.25323603110810533,\n",
       "  0.2530426265006918,\n",
       "  0.2530538654750966,\n",
       "  0.25298110653891065,\n",
       "  0.252814287457678,\n",
       "  0.252553754334779,\n",
       "  0.25269964235128806,\n",
       "  0.2528345891538929,\n",
       "  0.25285805010515533,\n",
       "  0.25312326308793776,\n",
       "  0.2525959153618856,\n",
       "  0.25206828325785596,\n",
       "  0.25161186381794315,\n",
       "  0.2512066386402646,\n",
       "  0.2510554814082997,\n",
       "  0.250773454505243,\n",
       "  0.2507403690745308,\n",
       "  0.250574309461162,\n",
       "  0.25095119127498533,\n",
       "  0.25123031863688616,\n",
       "  0.2511384219396528,\n",
       "  0.2513893685462402,\n",
       "  0.25122603487185874,\n",
       "  0.2511857148524156,\n",
       "  0.25133770025030194,\n",
       "  0.25123445874392386,\n",
       "  0.25160748995196414,\n",
       "  0.251948915302355,\n",
       "  0.2517320708287624,\n",
       "  0.252002389754005,\n",
       "  0.25208449778205455,\n",
       "  0.2519977713593399,\n",
       "  0.25179721249139986,\n",
       "  0.25164812598797043,\n",
       "  0.2518070932165043,\n",
       "  0.25167707744036516,\n",
       "  0.2518120864169626,\n",
       "  0.2517482563641647,\n",
       "  0.2519439183329325,\n",
       "  0.25169242992303487,\n",
       "  0.25163870877976485,\n",
       "  0.25127264563365287,\n",
       "  0.251451965816777,\n",
       "  0.2514317157688911,\n",
       "  0.2514539440645819,\n",
       "  0.25154261776966014,\n",
       "  0.251062142031241,\n",
       "  0.2508986061060638,\n",
       "  0.25065524406521467,\n",
       "  0.2503090030632503,\n",
       "  0.25002137815350406,\n",
       "  0.24981339285279258,\n",
       "  0.24982654703355153,\n",
       "  0.24987055684297887,\n",
       "  0.24958796027106037,\n",
       "  0.2492299557727987,\n",
       "  0.24884034664860594,\n",
       "  0.24857529651335186,\n",
       "  0.24837158310551577,\n",
       "  0.2481872894838791,\n",
       "  0.24777736998868144,\n",
       "  0.24736531109374704,\n",
       "  0.2469638929786631,\n",
       "  0.24702131719033518,\n",
       "  0.2469790916549035,\n",
       "  0.2468853682567095,\n",
       "  0.24666492286150268,\n",
       "  0.24626695765262263,\n",
       "  0.2462362833606675,\n",
       "  0.24607497721923127,\n",
       "  0.2460520048596308,\n",
       "  0.2457538779861666,\n",
       "  0.24561377462491044,\n",
       "  0.24532518247245588,\n",
       "  0.24555476669427073,\n",
       "  0.2458916163978934,\n",
       "  0.246033490256568,\n",
       "  0.2456371126627952,\n",
       "  0.24577879560022517,\n",
       "  0.2458652105087019,\n",
       "  0.24556517183456653,\n",
       "  0.2452494798359411,\n",
       "  0.24496882055435337,\n",
       "  0.24501454690186675,\n",
       "  0.24485715551691922,\n",
       "  0.24516437710991693,\n",
       "  0.24550079670989172,\n",
       "  0.2456932096125521,\n",
       "  0.2458014564620547,\n",
       "  0.245879974494777,\n",
       "  0.24619155886222965,\n",
       "  0.2460949849705636,\n",
       "  0.24629085257529376,\n",
       "  0.2462202706179198,\n",
       "  0.24661383598217695,\n",
       "  0.24689297633738003,\n",
       "  0.24704218648767345,\n",
       "  0.2475199421836402,\n",
       "  0.24739263843128553,\n",
       "  0.24762630996284427,\n",
       "  0.2475384851077568,\n",
       "  0.2473607348212578,\n",
       "  0.24728763070446816,\n",
       "  0.24746358135199426,\n",
       "  0.24727749375687774,\n",
       "  0.24739319328731915,\n",
       "  0.24760389643596287,\n",
       "  0.2476589162555793,\n",
       "  0.24758639056934864,\n",
       "  0.24778761970136012,\n",
       "  0.24801224941966288,\n",
       "  0.24792259084311788,\n",
       "  0.24783020090506575,\n",
       "  0.24771617108539723,\n",
       "  0.24786763564649386,\n",
       "  0.24768332351256275,\n",
       "  0.2478592902041774,\n",
       "  0.24766723495119508,\n",
       "  0.24751433764097475,\n",
       "  0.2475612337780843,\n",
       "  0.24747330073243234,\n",
       "  0.2472390525056515,\n",
       "  0.24709515651149574,\n",
       "  0.24689354047331546,\n",
       "  0.24665287733117144,\n",
       "  0.2467576154182026,\n",
       "  0.24647082043660581,\n",
       "  0.245915698871904,\n",
       "  0.24606752365911988,\n",
       "  0.2461854821574418,\n",
       "  0.24607553518559927,\n",
       "  0.24596058586870093,\n",
       "  0.24583293951746604,\n",
       "  0.24585247414192515,\n",
       "  0.24593481579477147,\n",
       "  0.2460791635416582,\n",
       "  0.24614169708209283,\n",
       "  0.24614860134258015,\n",
       "  0.24624741073388412,\n",
       "  0.2464964893807553,\n",
       "  0.24675208270983892,\n",
       "  0.24654209542756006,\n",
       "  0.2463881015947944,\n",
       "  0.24609764651993538,\n",
       "  0.24597443109349965,\n",
       "  0.24586591243677353,\n",
       "  0.24594093432010652,\n",
       "  0.24559345883528297,\n",
       "  0.24522156925231203,\n",
       "  0.24547433154362155,\n",
       "  0.24546160202456874,\n",
       "  0.2455941040374036,\n",
       "  0.24601169099643022,\n",
       "  0.24605796685837616,\n",
       "  0.24652970595159135,\n",
       "  0.24655303606228934,\n",
       "  0.24641187213866597,\n",
       "  0.2465444936502197,\n",
       "  0.2467325835696248,\n",
       "  0.24665261009436165,\n",
       "  0.2465112645830388,\n",
       "  0.24647488768414552,\n",
       "  0.24646433792949157,\n",
       "  0.24660392021587008,\n",
       "  0.2464036562087121,\n",
       "  0.24626669089002723,\n",
       "  0.24617173519435037,\n",
       "  0.24624549510601695,\n",
       "  0.24635671294494516,\n",
       "  0.24655547208547607,\n",
       "  0.24669189518789994,\n",
       "  0.2466655024867129,\n",
       "  0.24692067931506542,\n",
       "  0.24702925486165944,\n",
       "  0.24683004498892402,\n",
       "  0.2467825230549499,\n",
       "  0.24684661097202315,\n",
       "  0.2467103718855988,\n",
       "  0.2472611831633845,\n",
       "  0.2471555232297878,\n",
       "  0.2473517027197638,\n",
       "  0.24693166626053223,\n",
       "  0.24646618928409136,\n",
       "  0.24605519672021559,\n",
       "  0.24570311254817848,\n",
       "  0.24564456419575853,\n",
       "  0.24577227352189973,\n",
       "  0.24603789985174837,\n",
       "  0.24599662266568073,\n",
       "  0.24610784845703115,\n",
       "  0.24629045036786817],\n",
       " 'binary_logloss-stdv': [0.0007522807782952304,\n",
       "  0.001299491176480895,\n",
       "  0.00133151458242357,\n",
       "  0.001999711157726796,\n",
       "  0.0018053709986336735,\n",
       "  0.0026885820483158133,\n",
       "  0.004062314080843051,\n",
       "  0.005094563904986843,\n",
       "  0.006289540787819348,\n",
       "  0.007235780587659785,\n",
       "  0.006051105077787372,\n",
       "  0.004641455979042312,\n",
       "  0.0039566642767208645,\n",
       "  0.004089331004128397,\n",
       "  0.0029050051847416573,\n",
       "  0.0023956382323976314,\n",
       "  0.0033754712336409192,\n",
       "  0.0032710906786793696,\n",
       "  0.0038924183895447696,\n",
       "  0.00470860999972511,\n",
       "  0.004884807759325764,\n",
       "  0.004241243649267275,\n",
       "  0.005441243495385569,\n",
       "  0.006731803689979198,\n",
       "  0.006205436386482733,\n",
       "  0.006629756108980339,\n",
       "  0.007032930270777617,\n",
       "  0.007466845397573404,\n",
       "  0.007438595435679396,\n",
       "  0.007862743069602163,\n",
       "  0.008183763549802055,\n",
       "  0.008428720285321989,\n",
       "  0.008576656571242397,\n",
       "  0.008552460847495611,\n",
       "  0.008140088499164203,\n",
       "  0.007692076416019091,\n",
       "  0.006966348995659949,\n",
       "  0.007250381737612918,\n",
       "  0.007976913358611294,\n",
       "  0.007769782520098749,\n",
       "  0.008435225784305623,\n",
       "  0.008811061461746728,\n",
       "  0.008537522143766452,\n",
       "  0.008970608598710114,\n",
       "  0.009292720386441097,\n",
       "  0.009481788826142196,\n",
       "  0.009774508267038039,\n",
       "  0.01022335356556203,\n",
       "  0.010101834861336737,\n",
       "  0.010122906437681099,\n",
       "  0.00954978397174315,\n",
       "  0.009325531538955519,\n",
       "  0.009484801152641442,\n",
       "  0.010109159523675701,\n",
       "  0.009102625773967612,\n",
       "  0.00978202066084508,\n",
       "  0.010127524846034519,\n",
       "  0.01006510125932007,\n",
       "  0.009828547649650408,\n",
       "  0.010151249254717741,\n",
       "  0.010458415899601628,\n",
       "  0.010452021515327556,\n",
       "  0.010475173360643011,\n",
       "  0.010966813071901936,\n",
       "  0.01055896023161124,\n",
       "  0.010629319122553863,\n",
       "  0.01009329628746949,\n",
       "  0.009951417406240762,\n",
       "  0.01040522694167302,\n",
       "  0.010451406676710611,\n",
       "  0.00992851767816774,\n",
       "  0.009832149618512075,\n",
       "  0.009321960876332679,\n",
       "  0.009087287634357216,\n",
       "  0.008561881993862973,\n",
       "  0.008430569849007991,\n",
       "  0.008397590589018731,\n",
       "  0.008424925706839467,\n",
       "  0.007892145370527895,\n",
       "  0.007412031330249304,\n",
       "  0.007347687987848278,\n",
       "  0.0072373710574324185,\n",
       "  0.007908532135190525,\n",
       "  0.007587004243729011,\n",
       "  0.007462546337338802,\n",
       "  0.00680178066122349,\n",
       "  0.006762907825469275,\n",
       "  0.007109701634577406,\n",
       "  0.007031444431803667,\n",
       "  0.007017932417311352,\n",
       "  0.006991344532331534,\n",
       "  0.007121993672288316,\n",
       "  0.007323442531482987,\n",
       "  0.007167422161486147,\n",
       "  0.00745048167848815,\n",
       "  0.007370353604734611,\n",
       "  0.007417740455032318,\n",
       "  0.0077898915902343295,\n",
       "  0.00829452537837082,\n",
       "  0.008655626458325743,\n",
       "  0.00879114854860318,\n",
       "  0.008780431812717416,\n",
       "  0.00855834730307449,\n",
       "  0.008476890354992926,\n",
       "  0.008309389265588267,\n",
       "  0.008573044471448616,\n",
       "  0.008740908643346729,\n",
       "  0.008747112463847292,\n",
       "  0.008710768647345355,\n",
       "  0.008640621577095246,\n",
       "  0.008782237936681144,\n",
       "  0.009083727548068755,\n",
       "  0.009301952802190691,\n",
       "  0.009038365984465254,\n",
       "  0.008778316166004007,\n",
       "  0.008987970741016028,\n",
       "  0.009279085492149054,\n",
       "  0.009741070495059422,\n",
       "  0.010109946581132548,\n",
       "  0.0098018659708105,\n",
       "  0.009929415704954134,\n",
       "  0.009888706800423305,\n",
       "  0.010155371594571054,\n",
       "  0.01034269750703034,\n",
       "  0.010366170185213392,\n",
       "  0.010306870988493488,\n",
       "  0.009727572394964534,\n",
       "  0.009624493362263108,\n",
       "  0.009611544881767905,\n",
       "  0.009816172601886235,\n",
       "  0.00997024437203024,\n",
       "  0.010200099799441363,\n",
       "  0.009964402852490157,\n",
       "  0.010053414229754644,\n",
       "  0.009745456556457397,\n",
       "  0.009735324411792224,\n",
       "  0.010190361052082085,\n",
       "  0.009949662187999992,\n",
       "  0.009704627530500083,\n",
       "  0.009409958091710373,\n",
       "  0.009471273697859165,\n",
       "  0.009444953061963976,\n",
       "  0.009561597395074409,\n",
       "  0.00969427059766669,\n",
       "  0.009636909404372323,\n",
       "  0.009984659707066346,\n",
       "  0.010437113499396238,\n",
       "  0.010863117917035297,\n",
       "  0.010887895753997909,\n",
       "  0.01091847577998684,\n",
       "  0.010910217107333552,\n",
       "  0.01106709744200919,\n",
       "  0.011106632956205877,\n",
       "  0.011285686464477493,\n",
       "  0.011434730926813389,\n",
       "  0.011012121145464161,\n",
       "  0.0112070176190219,\n",
       "  0.011280188777427133,\n",
       "  0.01146821853121534,\n",
       "  0.011159366273051866,\n",
       "  0.01120818177458255,\n",
       "  0.011418451247052978,\n",
       "  0.011363851466131883,\n",
       "  0.01112878957681545,\n",
       "  0.01134768842183766,\n",
       "  0.010823147234202295,\n",
       "  0.01152370371535321,\n",
       "  0.011423216594589242,\n",
       "  0.011262220836149717,\n",
       "  0.010913710835723157,\n",
       "  0.010689433988567875,\n",
       "  0.011002170331481658,\n",
       "  0.010966170193591182,\n",
       "  0.011117001361490696,\n",
       "  0.011378151825342811,\n",
       "  0.01116787647705746,\n",
       "  0.01128454005739052,\n",
       "  0.011337249655835858,\n",
       "  0.011567459070624073,\n",
       "  0.011405217694349786,\n",
       "  0.011343957959453891,\n",
       "  0.011522330695062215,\n",
       "  0.011200539543832553,\n",
       "  0.011299055842334767,\n",
       "  0.011200639806852953,\n",
       "  0.01086831789368559,\n",
       "  0.010295840427074451,\n",
       "  0.010283517624830622,\n",
       "  0.010378331053539542,\n",
       "  0.01034211120886248,\n",
       "  0.010654373525530562,\n",
       "  0.010833988005129889,\n",
       "  0.01110018677942703,\n",
       "  0.011014058355530055,\n",
       "  0.011345853397580243,\n",
       "  0.01149231454934593,\n",
       "  0.011557201187904168,\n",
       "  0.011475399645250213,\n",
       "  0.011879220483816186,\n",
       "  0.011773856992368374,\n",
       "  0.011637455026933896,\n",
       "  0.011399065567438008,\n",
       "  0.01117303296478123,\n",
       "  0.010885186385297726,\n",
       "  0.011226853694002501,\n",
       "  0.011295263282862268,\n",
       "  0.011088303460868285,\n",
       "  0.010969403616054488,\n",
       "  0.010557378761314736,\n",
       "  0.010379149957162114,\n",
       "  0.01049841397879553,\n",
       "  0.01012756990310689,\n",
       "  0.010130901487987128,\n",
       "  0.009930679791838638,\n",
       "  0.00965934461017084,\n",
       "  0.00944308491791184,\n",
       "  0.008807933386803846,\n",
       "  0.008574721810317053,\n",
       "  0.008765393187115954,\n",
       "  0.00817595220003364,\n",
       "  0.008136769864026156,\n",
       "  0.008254173082451646,\n",
       "  0.007969983271777743,\n",
       "  0.007796325149850031,\n",
       "  0.008077967192012094,\n",
       "  0.008010547446216694,\n",
       "  0.008298786963651427,\n",
       "  0.00822037333533601,\n",
       "  0.008362544023881173,\n",
       "  0.008656331995841362,\n",
       "  0.008653448643146478,\n",
       "  0.008540541328139556,\n",
       "  0.008283329887144924,\n",
       "  0.007785496205962346,\n",
       "  0.007829100791106658,\n",
       "  0.00804796718691827,\n",
       "  0.008004032866197363,\n",
       "  0.00802044982169153,\n",
       "  0.00789026014490942,\n",
       "  0.008130079646371205,\n",
       "  0.008545458057825655,\n",
       "  0.009010548912974944,\n",
       "  0.009203528136595808,\n",
       "  0.009431616181176243,\n",
       "  0.009492342366503571,\n",
       "  0.009340251492665005,\n",
       "  0.009325023243708716,\n",
       "  0.009063567041062232,\n",
       "  0.008619793442955584,\n",
       "  0.008550738463893181,\n",
       "  0.008579614301667694,\n",
       "  0.008735879988698299,\n",
       "  0.008771129664209143,\n",
       "  0.00902823069969322,\n",
       "  0.008683878249206871,\n",
       "  0.008445538339502817,\n",
       "  0.008303907190681867,\n",
       "  0.008349407271998226,\n",
       "  0.008424308612747577,\n",
       "  0.008348854712139218,\n",
       "  0.008116649387797466,\n",
       "  0.008249846841893957,\n",
       "  0.007794070743737023,\n",
       "  0.00811796129973528,\n",
       "  0.008252637491686173,\n",
       "  0.008440001648653373,\n",
       "  0.008275132930053018,\n",
       "  0.0080931699754174,\n",
       "  0.008350522984550982,\n",
       "  0.008221391506063488,\n",
       "  0.008935066538087885,\n",
       "  0.00894747827124805,\n",
       "  0.009212201996367048,\n",
       "  0.009434543819882953,\n",
       "  0.009851622595990355,\n",
       "  0.01004463268084699,\n",
       "  0.010445327291719875,\n",
       "  0.010518076466282628,\n",
       "  0.01050454007009526,\n",
       "  0.010551355612397652,\n",
       "  0.01035587993513229,\n",
       "  0.010050788611362691,\n",
       "  0.010137724686044573,\n",
       "  0.010065332510217103,\n",
       "  0.009975209794923764,\n",
       "  0.009682948704618121,\n",
       "  0.009384901640970845,\n",
       "  0.00944178470976678,\n",
       "  0.009565757590608528,\n",
       "  0.009231129452817908,\n",
       "  0.009512723082077148,\n",
       "  0.009365828858521568,\n",
       "  0.010127077226104375,\n",
       "  0.010154896557195064,\n",
       "  0.010829128012253868,\n",
       "  0.010702017679201271,\n",
       "  0.01024496683211988,\n",
       "  0.010409911511281842,\n",
       "  0.010113938823148157,\n",
       "  0.009681850989414516,\n",
       "  0.009564103858305997,\n",
       "  0.009393653833785895,\n",
       "  0.00947795068512455,\n",
       "  0.009654136513356993,\n",
       "  0.009605667040187565,\n",
       "  0.009581102114574898,\n",
       "  0.00928666936880122,\n",
       "  0.009195211891191992,\n",
       "  0.009058752669184484,\n",
       "  0.008817641975595588,\n",
       "  0.008886451885755865,\n",
       "  0.009007619711023557,\n",
       "  0.009238213664022075,\n",
       "  0.009617966800524107,\n",
       "  0.009590000577958068,\n",
       "  0.009826260414960049,\n",
       "  0.010115434810160154,\n",
       "  0.010270986060450142,\n",
       "  0.010689295642268967,\n",
       "  0.010924144100934946,\n",
       "  0.010825484892981267,\n",
       "  0.010915039577982292,\n",
       "  0.010861371987048046,\n",
       "  0.010993269660929877,\n",
       "  0.010649242960074131,\n",
       "  0.01086054272701286,\n",
       "  0.011092505443347667,\n",
       "  0.011524407754169935,\n",
       "  0.012095213058280645,\n",
       "  0.012297906832245565,\n",
       "  0.012199968615575976,\n",
       "  0.012071810598548751,\n",
       "  0.012157760130734014,\n",
       "  0.011915606740903221,\n",
       "  0.012298837952140464,\n",
       "  0.012270374226903151,\n",
       "  0.012314965222749009,\n",
       "  0.012250099761123068,\n",
       "  0.01228649631573582,\n",
       "  0.011879145620873588,\n",
       "  0.011560017871559962,\n",
       "  0.011507496050831617,\n",
       "  0.01140802221039144,\n",
       "  0.011677734566626775,\n",
       "  0.011776277515963326,\n",
       "  0.011410444288373704,\n",
       "  0.011010517306354533,\n",
       "  0.01116978450941287,\n",
       "  0.011117757118486428,\n",
       "  0.010660757645652368,\n",
       "  0.010505826180126665,\n",
       "  0.01060603883495863,\n",
       "  0.010639991876389662,\n",
       "  0.010756365200080534,\n",
       "  0.010835451380375269,\n",
       "  0.010857883927440661,\n",
       "  0.011088647512333516,\n",
       "  0.011038179732256148,\n",
       "  0.011246757196647084,\n",
       "  0.01136036104207121,\n",
       "  0.011670875326699009,\n",
       "  0.012032374887041595,\n",
       "  0.012246654124027655,\n",
       "  0.012332189678068234,\n",
       "  0.012095536147897518,\n",
       "  0.011829718276527141,\n",
       "  0.01174559257881387,\n",
       "  0.011664014083574637,\n",
       "  0.011506908707260675,\n",
       "  0.011441097285646011,\n",
       "  0.011469537065580527,\n",
       "  0.011419677504351704,\n",
       "  0.011316547951963563,\n",
       "  0.011147568187270142,\n",
       "  0.01145116338686557,\n",
       "  0.011405176643709863,\n",
       "  0.01141746750578113,\n",
       "  0.011252206796625972,\n",
       "  0.011372102032947707,\n",
       "  0.011299289924722558,\n",
       "  0.011219556526775374,\n",
       "  0.01114921392137614,\n",
       "  0.011014717828137757,\n",
       "  0.011087651563677147,\n",
       "  0.011482643953630588,\n",
       "  0.011463537632749375,\n",
       "  0.01163602857980238,\n",
       "  0.011535276357726842,\n",
       "  0.011504341616551946,\n",
       "  0.011373640840274627,\n",
       "  0.011188489841491657,\n",
       "  0.011188282084186357,\n",
       "  0.011187402991472905,\n",
       "  0.010894930847489472,\n",
       "  0.010981624262127012,\n",
       "  0.01078562847583053,\n",
       "  0.010808690472312163,\n",
       "  0.01068135763412696,\n",
       "  0.010725869114307798,\n",
       "  0.010846650389038688,\n",
       "  0.011184897568818441,\n",
       "  0.011481784048834045,\n",
       "  0.011958596647565501,\n",
       "  0.012066657696588464,\n",
       "  0.012141699754557811,\n",
       "  0.012312138361228825,\n",
       "  0.011964818264857477,\n",
       "  0.012145567189733223,\n",
       "  0.012208987061145971,\n",
       "  0.012233967370169524,\n",
       "  0.012433747561938279,\n",
       "  0.012416716693846745,\n",
       "  0.012777020039963184,\n",
       "  0.012607030565461412,\n",
       "  0.012555158905449516,\n",
       "  0.01242265426013822,\n",
       "  0.01227941089134448,\n",
       "  0.012462156402416765,\n",
       "  0.012341028132636378,\n",
       "  0.012173203635520305,\n",
       "  0.012344815233587651,\n",
       "  0.012238563736138852,\n",
       "  0.012251032068593338,\n",
       "  0.01242669402479289,\n",
       "  0.012490532976129865,\n",
       "  0.012647873071739268,\n",
       "  0.012447351253422846,\n",
       "  0.012494209046348069,\n",
       "  0.012272067309987917,\n",
       "  0.011931756365892039,\n",
       "  0.011947410046930656,\n",
       "  0.012439929911364628,\n",
       "  0.012603957823823021,\n",
       "  0.012606366586467762,\n",
       "  0.012730296760207314,\n",
       "  0.012528359280725376,\n",
       "  0.012650759679042998,\n",
       "  0.01261253407045017,\n",
       "  0.012529072311549351,\n",
       "  0.012572272407629217,\n",
       "  0.012928115871142273,\n",
       "  0.013161194989560459,\n",
       "  0.013149752293119044,\n",
       "  0.013243176318961214,\n",
       "  0.01310892463295149,\n",
       "  0.013437746825722215,\n",
       "  0.014194788783264552,\n",
       "  0.014451303845795247,\n",
       "  0.014773301128170902,\n",
       "  0.014744328330305404,\n",
       "  0.014962877184397332,\n",
       "  0.014819510143664038,\n",
       "  0.014893225523767623,\n",
       "  0.014607427641142569,\n",
       "  0.014841492472385616,\n",
       "  0.014520037320227741,\n",
       "  0.014114289472789747,\n",
       "  0.014009749494677287,\n",
       "  0.013685983501031848,\n",
       "  0.013527718784839434,\n",
       "  0.013486924892994133,\n",
       "  0.013474703373093751,\n",
       "  0.013429030523217941,\n",
       "  0.013473576426541303,\n",
       "  0.013254368846979994,\n",
       "  0.013128913009816853,\n",
       "  0.013351028938909104,\n",
       "  0.013756420449244577,\n",
       "  0.013904492144418164,\n",
       "  0.013963460127806257,\n",
       "  0.0137053439540024,\n",
       "  0.0136966552437673,\n",
       "  0.013922129053714842,\n",
       "  0.01395608944520564,\n",
       "  0.014060048801993361,\n",
       "  0.01421798541329758,\n",
       "  0.01418737428051296,\n",
       "  0.014303930081078796,\n",
       "  0.014442067005364545,\n",
       "  0.013745512173178029,\n",
       "  0.013860609202142594,\n",
       "  0.01397366417181202,\n",
       "  0.01393550172338103,\n",
       "  0.014228923078246152,\n",
       "  0.014425825842555447,\n",
       "  0.014713697529744779,\n",
       "  0.014817044915987492,\n",
       "  0.014873826964456716,\n",
       "  0.015074905877708952,\n",
       "  0.014968576910395036,\n",
       "  0.015053219043196174,\n",
       "  0.015349628216859475,\n",
       "  0.015311918743278655,\n",
       "  0.015125665398871602,\n",
       "  0.014871926139664048,\n",
       "  0.015082767736264794,\n",
       "  0.015080973122538756,\n",
       "  0.015117215954229744,\n",
       "  0.015221170253724417,\n",
       "  0.015280965072691643]}"
      ]
     },
     "execution_count": 34,
     "metadata": {},
     "output_type": "execute_result"
    }
   ],
   "source": [
    "lgb.cv(param, train_data, 500, nfold=5)"
   ]
  },
  {
   "cell_type": "code",
   "execution_count": 42,
   "metadata": {
    "collapsed": true
   },
   "outputs": [],
   "source": [
    "testdata1 = np.random.normal(size=(10000,10))\n",
    "testlabel1 = np.array([ 1 if np.dot(i[:-1],i[:-1]) > 9.34 else 0 for i in testdata1 ])\n",
    "test_data1 = lgb.Dataset(testdata1, label=testlabel1)"
   ]
  },
  {
   "cell_type": "code",
   "execution_count": 43,
   "metadata": {
    "collapsed": true
   },
   "outputs": [],
   "source": [
    "traindata1 = np.random.normal(size=(5000,10))\n",
    "trainlabel1 = np.array([ 1 if np.dot(i[:-1],i[:-1]) > 9.34 else 0 for i in traindata1 ])\n",
    "train_data1 = lgb.Dataset(traindata1, label=trainlabel1)"
   ]
  },
  {
   "cell_type": "code",
   "execution_count": 44,
   "metadata": {},
   "outputs": [
    {
     "name": "stdout",
     "output_type": "stream",
     "text": [
      "Training until validation scores don't improve for 50 rounds.\n",
      "[100]\tvalid_0's binary_logloss: 0.315586\n",
      "[200]\tvalid_0's binary_logloss: 0.228548\n",
      "[300]\tvalid_0's binary_logloss: 0.187578\n",
      "[400]\tvalid_0's binary_logloss: 0.16307\n",
      "[500]\tvalid_0's binary_logloss: 0.147774\n",
      "[600]\tvalid_0's binary_logloss: 0.137076\n",
      "[700]\tvalid_0's binary_logloss: 0.130777\n",
      "[800]\tvalid_0's binary_logloss: 0.125035\n",
      "[900]\tvalid_0's binary_logloss: 0.121948\n",
      "[1000]\tvalid_0's binary_logloss: 0.119735\n",
      "Did not meet early stopping. Best iteration is:\n",
      "[1000]\tvalid_0's binary_logloss: 0.119735\n"
     ]
    }
   ],
   "source": [
    "bst = lgb.train(param, train_data1, 1000, valid_sets= test_data1, early_stopping_rounds=50\n",
    "                , verbose_eval=100)"
   ]
  },
  {
   "cell_type": "code",
   "execution_count": 45,
   "metadata": {
    "collapsed": true
   },
   "outputs": [],
   "source": [
    "testdata2 = np.random.normal(size=(10000,10))\n",
    "testlabel2 = np.array([ 1 if np.dot(i[:-1],i[:-1]) > 9.34 else 0 for i in testdata2 ])\n",
    "test_data2 = lgb.Dataset(testdata2, label=testlabel2)"
   ]
  },
  {
   "cell_type": "code",
   "execution_count": 46,
   "metadata": {
    "collapsed": true
   },
   "outputs": [],
   "source": [
    "predf = bst.predict(testdata2, num_iteration=bst.best_iteration)\n",
    "predb = [1 if i>.5 else 0 for i in predf]\n",
    "cm = confusion_matrix(testlabel2, predb)\n",
    "accuracy = accuracy_score(testlabel2, predb)"
   ]
  },
  {
   "cell_type": "code",
   "execution_count": 47,
   "metadata": {},
   "outputs": [
    {
     "data": {
      "text/plain": [
       "0.9539"
      ]
     },
     "execution_count": 47,
     "metadata": {},
     "output_type": "execute_result"
    }
   ],
   "source": [
    "accuracy"
   ]
  },
  {
   "cell_type": "code",
   "execution_count": 48,
   "metadata": {},
   "outputs": [
    {
     "data": {
      "image/png": "[encoded data removed]",
      "text/plain": [
       "<matplotlib.figure.Figure at 0x124ccd4e0>"
      ]
     },
     "metadata": {},
     "output_type": "display_data"
    }
   ],
   "source": [
    "fig, ax = plt.subplots(figsize=(12,18))\n",
    "lgb.plot_importance(bst, ax = ax)\n",
    "ax.grid(False)"
   ]
  },
  {
   "cell_type": "code",
   "execution_count": null,
   "metadata": {
    "collapsed": true
   },
   "outputs": [],
   "source": []
  }
 ],
 "metadata": {
  "kernelspec": {
   "display_name": "Python [default]",
   "language": "python",
   "name": "python3"
  },
  "language_info": {
   "codemirror_mode": {
    "name": "ipython",
    "version": 3
   },
   "file_extension": ".py",
   "mimetype": "text/x-python",
   "name": "python",
   "nbconvert_exporter": "python",
   "pygments_lexer": "ipython3",
   "version": "3.5.3"
  }
 },
 "nbformat": 4,
 "nbformat_minor": 2
}
