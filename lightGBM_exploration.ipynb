{
 "cells": [
  {
   "cell_type": "code",
   "execution_count": 1,
   "metadata": {},
   "outputs": [
    {
     "name": "stderr",
     "output_type": "stream",
     "text": [
      "/Users/fanggot/anaconda/lib/python3.5/site-packages/lightgbm/__init__.py:45: FutureWarning: Starting from version 2.2.1, the library file in distribution wheels for macOS will be built by the Apple Clang compiler.\n",
      "This means that in case of installing LightGBM from PyPI via the ``pip install lightgbm`` command, you won't need to install the gcc compiler anymore.\n",
      "Instead of that, you'll need to install the OpenMP library, which is required for running LightGBM on the system with the Apple Clang compiler.\n",
      "You can install the OpenMP library by the following command: ``brew install libomp``.\n",
      "  \"You can install the OpenMP library by the following command: ``brew install libomp``.\", FutureWarning)\n"
     ]
    }
   ],
   "source": [
    "import os\n",
    "import json\n",
    "import numpy as np\n",
    "import pandas as pd\n",
    "from pandas.io.json import json_normalize\n",
    "import matplotlib.pyplot as plt\n",
    "import seaborn as sns\n",
    "color = sns.color_palette()\n",
    "\n",
    "%matplotlib inline\n",
    "\n",
    "from sklearn import model_selection, preprocessing, metrics\n",
    "import lightgbm as lgb\n",
    "\n",
    "pd.options.mode.chained_assignment = None\n",
    "pd.options.display.max_columns = 999"
   ]
  },
  {
   "cell_type": "code",
   "execution_count": 109,
   "metadata": {
    "collapsed": true
   },
   "outputs": [],
   "source": [
    "from sklearn.metrics import confusion_matrix"
   ]
  },
  {
   "cell_type": "code",
   "execution_count": 112,
   "metadata": {
    "collapsed": true
   },
   "outputs": [],
   "source": [
    "from sklearn.metrics import accuracy_score"
   ]
  },
  {
   "cell_type": "code",
   "execution_count": 80,
   "metadata": {
    "collapsed": true
   },
   "outputs": [],
   "source": [
    "import scipy as sp"
   ]
  },
  {
   "cell_type": "code",
   "execution_count": 74,
   "metadata": {
    "collapsed": true
   },
   "outputs": [],
   "source": [
    "data = np.random.rand(1000, 10)  # 500 entities, each contains 10 features\n",
    "label = np.random.randint(2, size=1000)  # binary target\n",
    "train_data = lgb.Dataset(data, label=label)"
   ]
  },
  {
   "cell_type": "code",
   "execution_count": 75,
   "metadata": {
    "collapsed": true
   },
   "outputs": [],
   "source": [
    "param = {'num_leaves':5, 'objective':'binary'}"
   ]
  },
  {
   "cell_type": "code",
   "execution_count": 76,
   "metadata": {
    "collapsed": true
   },
   "outputs": [],
   "source": [
    "param['metric'] = 'auc'"
   ]
  },
  {
   "cell_type": "code",
   "execution_count": 77,
   "metadata": {
    "collapsed": true
   },
   "outputs": [],
   "source": [
    "num_round = 10\n",
    "rst = lgb.cv(param, train_data, num_round, nfold=5)"
   ]
  },
  {
   "cell_type": "code",
   "execution_count": 78,
   "metadata": {
    "collapsed": true
   },
   "outputs": [],
   "source": [
    "num_round = 10\n",
    "bst = lgb.train(param, train_data, num_round)"
   ]
  },
  {
   "cell_type": "code",
   "execution_count": 79,
   "metadata": {},
   "outputs": [
    {
     "data": {
      "text/plain": [
       "array([0.52368558, 0.49148258, 0.49901774, 0.48947503, 0.48947503,\n",
       "       0.50520472, 0.55175067])"
      ]
     },
     "execution_count": 79,
     "metadata": {},
     "output_type": "execute_result"
    }
   ],
   "source": [
    "bst.predict(data = np.random.rand(7, 10))"
   ]
  },
  {
   "cell_type": "code",
   "execution_count": null,
   "metadata": {
    "collapsed": true
   },
   "outputs": [],
   "source": []
  },
  {
   "cell_type": "code",
   "execution_count": 227,
   "metadata": {
    "collapsed": true
   },
   "outputs": [],
   "source": [
    "traindata = np.random.normal(size=(2000,10))"
   ]
  },
  {
   "cell_type": "code",
   "execution_count": 228,
   "metadata": {
    "collapsed": true
   },
   "outputs": [],
   "source": [
    "testdata = np.random.normal(size=(10000,10))"
   ]
  },
  {
   "cell_type": "code",
   "execution_count": 229,
   "metadata": {
    "collapsed": true
   },
   "outputs": [],
   "source": [
    "label = np.array([ 1 if np.dot(i,i) > 9.34 else 0 for i in traindata ])"
   ]
  },
  {
   "cell_type": "code",
   "execution_count": 230,
   "metadata": {},
   "outputs": [
    {
     "data": {
      "text/plain": [
       "array([0, 1, 0, ..., 0, 0, 0])"
      ]
     },
     "execution_count": 230,
     "metadata": {},
     "output_type": "execute_result"
    }
   ],
   "source": [
    "label"
   ]
  },
  {
   "cell_type": "code",
   "execution_count": 231,
   "metadata": {
    "collapsed": true
   },
   "outputs": [],
   "source": [
    "testlabel = np.array([ 1 if np.dot(i,i) > 9.34 else 0 for i in testdata ])"
   ]
  },
  {
   "cell_type": "code",
   "execution_count": 232,
   "metadata": {
    "collapsed": true
   },
   "outputs": [],
   "source": [
    "train_data = lgb.Dataset(traindata, label=label)\n",
    "test_data = lgb.Dataset(testdata, label=testlabel)"
   ]
  },
  {
   "cell_type": "code",
   "execution_count": 233,
   "metadata": {
    "collapsed": true
   },
   "outputs": [],
   "source": [
    "param = {'objective': 'binary', 'num_leaves': 5, 'bagging_fraction': 0.7, \n",
    "         'learning_rate': 0.1, 'min_child_samples': 50, 'bagging_freq': 5, 'bagging_seed': 1111 }"
   ]
  },
  {
   "cell_type": "code",
   "execution_count": 100,
   "metadata": {
    "collapsed": true
   },
   "outputs": [],
   "source": [
    "bst = lgb.train(param, train_data, 1)"
   ]
  },
  {
   "cell_type": "code",
   "execution_count": 107,
   "metadata": {
    "collapsed": true
   },
   "outputs": [],
   "source": [
    "predf = bst.predict(testdata)"
   ]
  },
  {
   "cell_type": "code",
   "execution_count": 108,
   "metadata": {
    "collapsed": true
   },
   "outputs": [],
   "source": [
    "predb = [1 if i>.5 else 0 for i in predf]"
   ]
  },
  {
   "cell_type": "code",
   "execution_count": 113,
   "metadata": {
    "collapsed": true
   },
   "outputs": [],
   "source": [
    "cm = confusion_matrix(testlabel, predb)\n",
    "accuracy = accuracy_score(testlabel, predb)"
   ]
  },
  {
   "cell_type": "code",
   "execution_count": 114,
   "metadata": {},
   "outputs": [
    {
     "data": {
      "text/plain": [
       "array([[   0, 4923],\n",
       "       [   0, 5077]])"
      ]
     },
     "execution_count": 114,
     "metadata": {},
     "output_type": "execute_result"
    }
   ],
   "source": [
    "cm"
   ]
  },
  {
   "cell_type": "code",
   "execution_count": 115,
   "metadata": {},
   "outputs": [
    {
     "data": {
      "text/plain": [
       "0.5077"
      ]
     },
     "execution_count": 115,
     "metadata": {},
     "output_type": "execute_result"
    }
   ],
   "source": [
    "accuracy"
   ]
  },
  {
   "cell_type": "code",
   "execution_count": 164,
   "metadata": {
    "collapsed": true
   },
   "outputs": [],
   "source": [
    "acclist = []\n",
    "for j in range(1, 400):\n",
    "    bst = lgb.train(param, train_data, j)\n",
    "    predf = bst.predict(testdata)\n",
    "    predb = [1 if i>.5 else 0 for i in predf]\n",
    "#     cm = confusion_matrix(testlabel, predb)\n",
    "    accuracy = accuracy_score(testlabel, predb)\n",
    "#     print(accuracy)\n",
    "    acclist.append(accuracy)\n",
    "# print(acclist)"
   ]
  },
  {
   "cell_type": "code",
   "execution_count": 165,
   "metadata": {},
   "outputs": [
    {
     "name": "stderr",
     "output_type": "stream",
     "text": [
      "/Users/fanggot/anaconda/lib/python3.5/site-packages/seaborn/categorical.py:1428: FutureWarning: remove_na is deprecated and is a private function. Do not use.\n",
      "  stat_data = remove_na(group_data)\n"
     ]
    },
    {
     "data": {
      "text/plain": [
       "<matplotlib.axes._subplots.AxesSubplot at 0x1225b1fd0>"
      ]
     },
     "execution_count": 165,
     "metadata": {},
     "output_type": "execute_result"
    },
    {
     "data": {
      "image/png": "[encoded data removed]",
      "text/plain": [
       "<matplotlib.figure.Figure at 0x123405940>"
      ]
     },
     "metadata": {},
     "output_type": "display_data"
    }
   ],
   "source": [
    "npalist = np.array(acclist)\n",
    "plt.subplots(figsize=(20,20))\n",
    "sns.pointplot(x = [i for i in range(1,400)], y = npalist)"
   ]
  },
  {
   "cell_type": "code",
   "execution_count": 239,
   "metadata": {},
   "outputs": [
    {
     "name": "stdout",
     "output_type": "stream",
     "text": [
      "Training until validation scores don't improve for 50 rounds.\n",
      "[100]\tvalid_0's binary_logloss: 0.344234\n",
      "[200]\tvalid_0's binary_logloss: 0.260065\n",
      "[300]\tvalid_0's binary_logloss: 0.227949\n",
      "[400]\tvalid_0's binary_logloss: 0.208431\n",
      "[500]\tvalid_0's binary_logloss: 0.202308\n",
      "[600]\tvalid_0's binary_logloss: 0.200485\n",
      "Early stopping, best iteration is:\n",
      "[551]\tvalid_0's binary_logloss: 0.199897\n"
     ]
    }
   ],
   "source": [
    "bst = lgb.train(param, train_data, 1000, valid_sets= test_data, early_stopping_rounds=50\n",
    "                , verbose_eval=100)"
   ]
  },
  {
   "cell_type": "code",
   "execution_count": 240,
   "metadata": {
    "collapsed": true
   },
   "outputs": [],
   "source": [
    "predf = bst.predict(testdata, num_iteration=bst.best_iteration)\n",
    "predb = [1 if i>.5 else 0 for i in predf]\n",
    "cm = confusion_matrix(testlabel, predb)\n",
    "accuracy = accuracy_score(testlabel, predb)"
   ]
  },
  {
   "cell_type": "code",
   "execution_count": 241,
   "metadata": {},
   "outputs": [
    {
     "data": {
      "text/plain": [
       "array([[4547,  434],\n",
       "       [ 427, 4592]])"
      ]
     },
     "execution_count": 241,
     "metadata": {},
     "output_type": "execute_result"
    }
   ],
   "source": [
    "cm"
   ]
  },
  {
   "cell_type": "code",
   "execution_count": 242,
   "metadata": {},
   "outputs": [
    {
     "data": {
      "text/plain": [
       "0.9139"
      ]
     },
     "execution_count": 242,
     "metadata": {},
     "output_type": "execute_result"
    }
   ],
   "source": [
    "accuracy"
   ]
  },
  {
   "cell_type": "code",
   "execution_count": 256,
   "metadata": {
    "collapsed": true
   },
   "outputs": [],
   "source": [
    "testdata2 = np.random.normal(size=(10000,10))\n",
    "testlabel2 = np.array([ 1 if np.dot(i,i) > 9.34 else 0 for i in testdata2 ])\n",
    "test_data2 = lgb.Dataset(testdata2, label=testlabel2)"
   ]
  },
  {
   "cell_type": "code",
   "execution_count": 257,
   "metadata": {
    "collapsed": true
   },
   "outputs": [],
   "source": [
    "predf = bst.predict(testdata2, num_iteration=bst.best_iteration)\n",
    "predb = [1 if i>.5 else 0 for i in predf]\n",
    "cm = confusion_matrix(testlabel2, predb)\n",
    "accuracy = accuracy_score(testlabel2, predb)"
   ]
  },
  {
   "cell_type": "code",
   "execution_count": 258,
   "metadata": {},
   "outputs": [
    {
     "data": {
      "text/plain": [
       "0.9114"
      ]
     },
     "execution_count": 258,
     "metadata": {},
     "output_type": "execute_result"
    }
   ],
   "source": [
    "accuracy"
   ]
  },
  {
   "cell_type": "code",
   "execution_count": 263,
   "metadata": {},
   "outputs": [
    {
     "data": {
      "image/png": "[encoded data removed]",
      "text/plain": [
       "<matplotlib.figure.Figure at 0x1240aea90>"
      ]
     },
     "metadata": {},
     "output_type": "display_data"
    }
   ],
   "source": [
    "fig, ax = plt.subplots(figsize=(12,18))\n",
    "lgb.plot_importance(bst, ax = ax)\n",
    "ax.grid(False)"
   ]
  },
  {
   "cell_type": "code",
   "execution_count": 264,
   "metadata": {},
   "outputs": [
    {
     "data": {
      "text/plain": [
       "{'binary_logloss-mean': [0.6815854487476531,\n",
       "  0.6720217879227122,\n",
       "  0.6635752870143048,\n",
       "  0.6544142668946862,\n",
       "  0.6468798139048447,\n",
       "  0.6382532493314623,\n",
       "  0.6309193939674986,\n",
       "  0.6247211523193811,\n",
       "  0.6175709114485726,\n",
       "  0.6107635225251269,\n",
       "  0.6026496741890834,\n",
       "  0.5960373196292013,\n",
       "  0.5896991838887271,\n",
       "  0.5829783681495668,\n",
       "  0.5771070756727038,\n",
       "  0.5706790938780884,\n",
       "  0.5645628990960349,\n",
       "  0.5589721808576328,\n",
       "  0.5533884173110233,\n",
       "  0.5487142749593567,\n",
       "  0.5424916342004292,\n",
       "  0.5372724328975312,\n",
       "  0.5325513148710621,\n",
       "  0.528071030863628,\n",
       "  0.5242839229668227,\n",
       "  0.5198777259037177,\n",
       "  0.5148924345479406,\n",
       "  0.5105066662348149,\n",
       "  0.5063644675791685,\n",
       "  0.5023648329933534,\n",
       "  0.49795619854170087,\n",
       "  0.4933213805789758,\n",
       "  0.4894416313813731,\n",
       "  0.48611512042682137,\n",
       "  0.4834809072630458,\n",
       "  0.47975213382082993,\n",
       "  0.47537743986985753,\n",
       "  0.47277315154411526,\n",
       "  0.46883632786403684,\n",
       "  0.46527707171346255,\n",
       "  0.46116733536074034,\n",
       "  0.4576032539924692,\n",
       "  0.454417967361171,\n",
       "  0.4520024002244358,\n",
       "  0.4491206538980775,\n",
       "  0.4459942257512717,\n",
       "  0.44302390524575125,\n",
       "  0.4405878968577245,\n",
       "  0.437842645510574,\n",
       "  0.4352006203521725,\n",
       "  0.43253342851474824,\n",
       "  0.42951654210642054,\n",
       "  0.4273618582162254,\n",
       "  0.42505803286515065,\n",
       "  0.42228610969197844,\n",
       "  0.4191341774978697,\n",
       "  0.4164812005834378,\n",
       "  0.41439455834765554,\n",
       "  0.41211214429696275,\n",
       "  0.40990658915952355,\n",
       "  0.40689025554183544,\n",
       "  0.4044927208971978,\n",
       "  0.40239469490491864,\n",
       "  0.40067432864868274,\n",
       "  0.3979916444558354,\n",
       "  0.3949314176805322,\n",
       "  0.39239459094688744,\n",
       "  0.3907795553913772,\n",
       "  0.3883957850332912,\n",
       "  0.38685049463317916,\n",
       "  0.3853324727665005,\n",
       "  0.3839269580774758,\n",
       "  0.38254823444209324,\n",
       "  0.38051033632186126,\n",
       "  0.3792614457201641,\n",
       "  0.3773614174359293,\n",
       "  0.37557548214620634,\n",
       "  0.3734891886069701,\n",
       "  0.3723494388888897,\n",
       "  0.3715067107538114,\n",
       "  0.3700974644840273,\n",
       "  0.3683610517229985,\n",
       "  0.36728907941602745,\n",
       "  0.3658990398276529,\n",
       "  0.36466466882643384,\n",
       "  0.3632608710086241,\n",
       "  0.3619729679920409,\n",
       "  0.36041410939574925,\n",
       "  0.35975017718063534,\n",
       "  0.35888454155310934,\n",
       "  0.35714302435522327,\n",
       "  0.35558303483395015,\n",
       "  0.3542861382341575,\n",
       "  0.3527334622983658,\n",
       "  0.35161579974818824,\n",
       "  0.34974357627099223,\n",
       "  0.3481089637400127,\n",
       "  0.3470469737542708,\n",
       "  0.3454447289576532,\n",
       "  0.3446805335556345,\n",
       "  0.3430443679878429,\n",
       "  0.34163792186580083,\n",
       "  0.3398919696748324,\n",
       "  0.33817626054346556,\n",
       "  0.33706289191931227,\n",
       "  0.33579437746675916,\n",
       "  0.3345316361209859,\n",
       "  0.3334073392856506,\n",
       "  0.3324532038300772,\n",
       "  0.33100229302925327,\n",
       "  0.32984142536303884,\n",
       "  0.3286700482647942,\n",
       "  0.3276797248764426,\n",
       "  0.3267982700641686,\n",
       "  0.3259666027802099,\n",
       "  0.3245575658107066,\n",
       "  0.3230200831507811,\n",
       "  0.3220313761919151,\n",
       "  0.3206864878433842,\n",
       "  0.31980782880624303,\n",
       "  0.3184784482643505,\n",
       "  0.31751489212432416,\n",
       "  0.31641040141044174,\n",
       "  0.3152710810687069,\n",
       "  0.3141247220880861,\n",
       "  0.31339794788665304,\n",
       "  0.31280007393238785,\n",
       "  0.3122369177665759,\n",
       "  0.31153919593020263,\n",
       "  0.3108782239976416,\n",
       "  0.3100148354981651,\n",
       "  0.30916827915679823,\n",
       "  0.3086214287428409,\n",
       "  0.30809968821241596,\n",
       "  0.30774028222678756,\n",
       "  0.30688419229930897,\n",
       "  0.30622919120607917,\n",
       "  0.3052602525684558,\n",
       "  0.30469935002393733,\n",
       "  0.3043699528966678,\n",
       "  0.30351143893709503,\n",
       "  0.3029251443466109,\n",
       "  0.3024550229348407,\n",
       "  0.301810837142531,\n",
       "  0.3014930133211919,\n",
       "  0.301052339563925,\n",
       "  0.3009302442908654,\n",
       "  0.30034846196485016,\n",
       "  0.29964379749045594,\n",
       "  0.29939458618304343,\n",
       "  0.2982900211407346,\n",
       "  0.2977763907066131,\n",
       "  0.2969213402810433,\n",
       "  0.2965113809237644,\n",
       "  0.29585961174283465,\n",
       "  0.2950065544997395,\n",
       "  0.294228599688074,\n",
       "  0.2933718637516365,\n",
       "  0.2927755792171714,\n",
       "  0.2919789893263137,\n",
       "  0.2911881362654411,\n",
       "  0.29063062202914286,\n",
       "  0.29034370703630186,\n",
       "  0.2898500020189533,\n",
       "  0.2893641080771674,\n",
       "  0.2884020763620467,\n",
       "  0.287557923648527,\n",
       "  0.28708129103862046,\n",
       "  0.2865295733643078,\n",
       "  0.2863102965934627,\n",
       "  0.2854665050490882,\n",
       "  0.2848793083919473,\n",
       "  0.28451317313428065,\n",
       "  0.28396884382417725,\n",
       "  0.2835378990344722,\n",
       "  0.28281617970472916,\n",
       "  0.28162562528334,\n",
       "  0.28088454644511884,\n",
       "  0.28035325967717106,\n",
       "  0.2797392226621128,\n",
       "  0.278657871509543,\n",
       "  0.2783820530771144,\n",
       "  0.27789521322189753,\n",
       "  0.27730017447143196,\n",
       "  0.27679084512456736,\n",
       "  0.2759137988392798,\n",
       "  0.2752557814114693,\n",
       "  0.27476231017416575,\n",
       "  0.2739167841454404,\n",
       "  0.27369513051926697,\n",
       "  0.27358780128576815,\n",
       "  0.27305987604273163,\n",
       "  0.27256390485468984,\n",
       "  0.2716962600926769,\n",
       "  0.2716449483884278,\n",
       "  0.2717854174159512,\n",
       "  0.2717102006141413,\n",
       "  0.2711300599362326,\n",
       "  0.2708110831651911,\n",
       "  0.2705590461412525,\n",
       "  0.26971126084572045,\n",
       "  0.2693020755629344,\n",
       "  0.2685967745295716,\n",
       "  0.2678567349547415,\n",
       "  0.2677804331853225,\n",
       "  0.2671162655681855,\n",
       "  0.26667376203804904,\n",
       "  0.26655362534124044,\n",
       "  0.2664240107760871,\n",
       "  0.26610587486220494,\n",
       "  0.2653845861975354,\n",
       "  0.26460287864103005,\n",
       "  0.2642271598697098,\n",
       "  0.2637623613759065,\n",
       "  0.26308419048384196,\n",
       "  0.2626347201619532,\n",
       "  0.26257014441198884,\n",
       "  0.262347586966332,\n",
       "  0.2623059080794073,\n",
       "  0.2625087983917921,\n",
       "  0.26242312944446283,\n",
       "  0.2619547658089198,\n",
       "  0.2617548839994576,\n",
       "  0.26144888837490404,\n",
       "  0.26118169661901447,\n",
       "  0.2610220193905216,\n",
       "  0.26113534675436323,\n",
       "  0.2613561759876323,\n",
       "  0.26160213201713245,\n",
       "  0.26122271392035024,\n",
       "  0.2608941083743565,\n",
       "  0.26044599082862446,\n",
       "  0.26000861837879635,\n",
       "  0.2593383706220595,\n",
       "  0.25913548933042857,\n",
       "  0.25865190905136615,\n",
       "  0.2585812796444061,\n",
       "  0.25853332337452145,\n",
       "  0.25808288860855927,\n",
       "  0.2576763478704029,\n",
       "  0.25729630242738677,\n",
       "  0.2569238219752579,\n",
       "  0.25679414023647984,\n",
       "  0.2560932318961327,\n",
       "  0.256046982744153,\n",
       "  0.25563459874665445,\n",
       "  0.25515386867925594,\n",
       "  0.2546140756784293,\n",
       "  0.2541131557808156,\n",
       "  0.2540492005652982,\n",
       "  0.2538789955993449,\n",
       "  0.25386751949761904,\n",
       "  0.2533603662058433,\n",
       "  0.2533462791955096,\n",
       "  0.25300359045871323,\n",
       "  0.2528837974651904,\n",
       "  0.25296753113853393,\n",
       "  0.2531544222319727,\n",
       "  0.252838327713672,\n",
       "  0.2528784769025485,\n",
       "  0.2525024719279717,\n",
       "  0.2520430032181834,\n",
       "  0.25178739127126715,\n",
       "  0.25156298599530763,\n",
       "  0.25130558426494104,\n",
       "  0.2507553915836122,\n",
       "  0.2502358472310489,\n",
       "  0.24994542118866608,\n",
       "  0.24982990918001188,\n",
       "  0.24917353780213877,\n",
       "  0.24889126722801286,\n",
       "  0.24877454306950866,\n",
       "  0.2485256821804211,\n",
       "  0.24804033167310177,\n",
       "  0.2477315782990917,\n",
       "  0.24798171600401048,\n",
       "  0.24819016691415302,\n",
       "  0.24832041545578062,\n",
       "  0.2485202664738126,\n",
       "  0.24823115969209458,\n",
       "  0.24809451256479914,\n",
       "  0.24797605045147275,\n",
       "  0.2480957289273043,\n",
       "  0.2481267978050062,\n",
       "  0.2478832448251685,\n",
       "  0.2474086708559196,\n",
       "  0.2473806005641265,\n",
       "  0.24707523177590893,\n",
       "  0.24668609165389369,\n",
       "  0.24615983711378625,\n",
       "  0.2457637751598154,\n",
       "  0.24550930377029712,\n",
       "  0.24546946882543938,\n",
       "  0.245539547185661,\n",
       "  0.24528049985978312,\n",
       "  0.2447942983353104,\n",
       "  0.2444695823755426,\n",
       "  0.2442953500079549,\n",
       "  0.244053714344569,\n",
       "  0.24380868740931444,\n",
       "  0.2439076393165444,\n",
       "  0.24417903564802046,\n",
       "  0.2442738494635372,\n",
       "  0.24417937670982787,\n",
       "  0.24422465084697373,\n",
       "  0.24394079687447623,\n",
       "  0.24357923875058404,\n",
       "  0.24345291301041705,\n",
       "  0.24338767540554382,\n",
       "  0.24320848079585972,\n",
       "  0.24245001417867834,\n",
       "  0.2422376455924808,\n",
       "  0.24202543652655492,\n",
       "  0.24182125640177402,\n",
       "  0.2419266846891114,\n",
       "  0.24160745601294037,\n",
       "  0.24124720264648847,\n",
       "  0.2410858026368584,\n",
       "  0.24098199620236382,\n",
       "  0.24101102266361468,\n",
       "  0.24087069613702172,\n",
       "  0.24087841004587798,\n",
       "  0.24093907901099368,\n",
       "  0.24103175484682576,\n",
       "  0.24097070368148854,\n",
       "  0.2408241369954153,\n",
       "  0.24043926008255592,\n",
       "  0.24035129350282633,\n",
       "  0.24032841643792677,\n",
       "  0.24029822569306553,\n",
       "  0.24009443230118235,\n",
       "  0.24005021584167485,\n",
       "  0.24040952899702644,\n",
       "  0.24021197197535948,\n",
       "  0.24058240421618854,\n",
       "  0.24037827077189472,\n",
       "  0.2404006025260151,\n",
       "  0.24050713770910231,\n",
       "  0.24017951955808367,\n",
       "  0.24007992450195492,\n",
       "  0.24005105983543173,\n",
       "  0.2396737366963876,\n",
       "  0.2394918260987245,\n",
       "  0.23947389520780468,\n",
       "  0.23944828886749975,\n",
       "  0.23930741299539487,\n",
       "  0.23932031078023575,\n",
       "  0.23895402191094325,\n",
       "  0.23902897842442403,\n",
       "  0.2389999359219302,\n",
       "  0.2385310121901084,\n",
       "  0.23849020213983607,\n",
       "  0.23842580752004444,\n",
       "  0.2381730370057102,\n",
       "  0.2380585953389751,\n",
       "  0.237567776126519,\n",
       "  0.23759566514624536,\n",
       "  0.2373158271959548,\n",
       "  0.2373142470566068,\n",
       "  0.23689055694998767,\n",
       "  0.23662043660686702,\n",
       "  0.23624994292868778,\n",
       "  0.2359315042282073,\n",
       "  0.23552980633381088,\n",
       "  0.23561184223494988,\n",
       "  0.23570233531447177,\n",
       "  0.23592354611282812,\n",
       "  0.23592321952320267,\n",
       "  0.23579824579094094,\n",
       "  0.23558888055535182,\n",
       "  0.23560351818333233,\n",
       "  0.23568537605115228,\n",
       "  0.23569501850857127,\n",
       "  0.23584007078480088,\n",
       "  0.23603974271183215,\n",
       "  0.2360789155185569,\n",
       "  0.23588364631895686,\n",
       "  0.23569965409616978,\n",
       "  0.23561606573133226,\n",
       "  0.2357672718529645,\n",
       "  0.23565159406181505,\n",
       "  0.2355231977554959,\n",
       "  0.23521923539933845,\n",
       "  0.23516119592181925,\n",
       "  0.23521015237807852,\n",
       "  0.23555828993252895,\n",
       "  0.23532484959678363,\n",
       "  0.23556982189659573,\n",
       "  0.23578955659865017,\n",
       "  0.23607127078052997,\n",
       "  0.23632277916465833,\n",
       "  0.23648930937888507,\n",
       "  0.23653506491045473,\n",
       "  0.23656162813926757,\n",
       "  0.2367194965053679,\n",
       "  0.23693941239356248,\n",
       "  0.23708865188298905,\n",
       "  0.2373720188409442,\n",
       "  0.23761145728790317,\n",
       "  0.23780169904332937,\n",
       "  0.23722524293891553,\n",
       "  0.2368729658630569,\n",
       "  0.2367470078136067,\n",
       "  0.2366988130039102,\n",
       "  0.23684906156382252,\n",
       "  0.2367269371604591,\n",
       "  0.23664506742077376,\n",
       "  0.23663492875187356,\n",
       "  0.23655258951802863,\n",
       "  0.23684600425816696,\n",
       "  0.23667572063588116,\n",
       "  0.2364535886330587,\n",
       "  0.23628974145781748,\n",
       "  0.23617461632866457,\n",
       "  0.2359790708943918,\n",
       "  0.2363719511097832,\n",
       "  0.23640526130153816,\n",
       "  0.23675856910748458,\n",
       "  0.2365679473886361,\n",
       "  0.2366386675972214,\n",
       "  0.2367381612911652,\n",
       "  0.23682044938868918,\n",
       "  0.23686653481686845,\n",
       "  0.23680773043939785,\n",
       "  0.236761802119486,\n",
       "  0.23673107903194404,\n",
       "  0.2366206931043119,\n",
       "  0.23669447900141916,\n",
       "  0.23667515780343554,\n",
       "  0.23669041188701595,\n",
       "  0.2364822426282557,\n",
       "  0.23610080786221527,\n",
       "  0.23632721891769148,\n",
       "  0.23651086304587135,\n",
       "  0.2364264928237289,\n",
       "  0.23615753035610204,\n",
       "  0.23602217055104485,\n",
       "  0.23615132964520366,\n",
       "  0.23590371934713378,\n",
       "  0.2359943631652258,\n",
       "  0.23595881706125663,\n",
       "  0.23615056629928693,\n",
       "  0.23626471841090063,\n",
       "  0.23648288352422622,\n",
       "  0.2363460712346884,\n",
       "  0.23621211547647997,\n",
       "  0.23652598345659617,\n",
       "  0.23665275303536243,\n",
       "  0.2367058930577942,\n",
       "  0.23647212242748608,\n",
       "  0.23631897191825052,\n",
       "  0.23601014368818846,\n",
       "  0.23593851582968947,\n",
       "  0.23564425614493464,\n",
       "  0.23545639470719348,\n",
       "  0.23520367029034625,\n",
       "  0.23488013218419573,\n",
       "  0.2348760339664832,\n",
       "  0.23524286935345992,\n",
       "  0.2350314420485696,\n",
       "  0.23519201588307456,\n",
       "  0.2354450784955991,\n",
       "  0.23581626462045208,\n",
       "  0.23604256119241115,\n",
       "  0.23657448347406795,\n",
       "  0.2364852611415364,\n",
       "  0.23653181152268493,\n",
       "  0.23666826142258218,\n",
       "  0.2368139241908705,\n",
       "  0.2367103648217109,\n",
       "  0.2365443650913787,\n",
       "  0.23654739424911195,\n",
       "  0.23678664037045602,\n",
       "  0.2365606430587582,\n",
       "  0.236562122263829,\n",
       "  0.2366177086763055,\n",
       "  0.2364298314886979,\n",
       "  0.23657002562480683,\n",
       "  0.2367801561157258,\n",
       "  0.23694926348432638,\n",
       "  0.237066827213751,\n",
       "  0.23686636898138577,\n",
       "  0.2368893437114366,\n",
       "  0.2367846142556192,\n",
       "  0.23665756875154625,\n",
       "  0.23671778767738746,\n",
       "  0.23678186064878082,\n",
       "  0.23673127662173407,\n",
       "  0.23649600330678489,\n",
       "  0.2363826968936472,\n",
       "  0.23631950041312777,\n",
       "  0.23642751772356835,\n",
       "  0.23658748687733228,\n",
       "  0.23659478997063568,\n",
       "  0.23645334556197178,\n",
       "  0.23633626460645493,\n",
       "  0.23634921759945332,\n",
       "  0.23644313057644215,\n",
       "  0.2361035927202399,\n",
       "  0.23623099416349375],\n",
       " 'binary_logloss-stdv': [0.002160914169655319,\n",
       "  0.002019759111093978,\n",
       "  0.00221112701891416,\n",
       "  0.003375587912151171,\n",
       "  0.004158888703381384,\n",
       "  0.004129678265562349,\n",
       "  0.0034576887476371067,\n",
       "  0.004511073032968589,\n",
       "  0.006028115583534373,\n",
       "  0.007001427571104222,\n",
       "  0.008099952416395335,\n",
       "  0.007441625320474032,\n",
       "  0.007524311447257825,\n",
       "  0.00704119659738571,\n",
       "  0.007317584901919604,\n",
       "  0.008514685215744486,\n",
       "  0.009666529720309005,\n",
       "  0.010879102461365675,\n",
       "  0.011921767247301818,\n",
       "  0.012338892094451496,\n",
       "  0.011301468950535168,\n",
       "  0.010529545520456105,\n",
       "  0.010370856528932203,\n",
       "  0.01073798754184558,\n",
       "  0.010335161753880006,\n",
       "  0.01058882155225223,\n",
       "  0.01164482486132129,\n",
       "  0.011425237471463697,\n",
       "  0.012612701722128404,\n",
       "  0.013428211952150597,\n",
       "  0.013483300904835412,\n",
       "  0.013168571925922874,\n",
       "  0.012800015490348678,\n",
       "  0.012926934093369303,\n",
       "  0.012813355355392166,\n",
       "  0.012464611060335225,\n",
       "  0.012305738874310615,\n",
       "  0.012725678271304252,\n",
       "  0.013171579873904696,\n",
       "  0.013112835844231093,\n",
       "  0.01216353485327847,\n",
       "  0.01136127467757816,\n",
       "  0.011700515501945133,\n",
       "  0.01207473571820324,\n",
       "  0.011549025672648476,\n",
       "  0.01220856381035309,\n",
       "  0.012330344380707204,\n",
       "  0.012227182618366108,\n",
       "  0.012474958954229062,\n",
       "  0.01212935404753995,\n",
       "  0.01218695236121039,\n",
       "  0.012808487348558124,\n",
       "  0.012627128031586046,\n",
       "  0.013317972687736422,\n",
       "  0.013554024348075563,\n",
       "  0.012781609213255695,\n",
       "  0.011952294812901668,\n",
       "  0.01230977208488164,\n",
       "  0.011837737846540713,\n",
       "  0.01196426032288714,\n",
       "  0.012555450259342836,\n",
       "  0.012585342870850398,\n",
       "  0.012265743896062036,\n",
       "  0.012757639806582408,\n",
       "  0.012965141999457756,\n",
       "  0.01315411180538315,\n",
       "  0.0136601577603826,\n",
       "  0.013267569805781088,\n",
       "  0.01369452989241822,\n",
       "  0.013699682405160793,\n",
       "  0.014431371841101444,\n",
       "  0.014149076547452153,\n",
       "  0.014354548317582877,\n",
       "  0.014393977856486526,\n",
       "  0.015514056540869322,\n",
       "  0.016056495411708727,\n",
       "  0.016037380489072044,\n",
       "  0.015939069255559622,\n",
       "  0.015915110487281368,\n",
       "  0.016094412051043838,\n",
       "  0.015931385027528416,\n",
       "  0.016112908866466095,\n",
       "  0.016293482080096563,\n",
       "  0.016402847698447773,\n",
       "  0.01640042592060062,\n",
       "  0.016410002930401905,\n",
       "  0.016909845308700884,\n",
       "  0.016748703580047746,\n",
       "  0.01694427046743867,\n",
       "  0.016870255593199893,\n",
       "  0.01637924235260878,\n",
       "  0.01603202723538777,\n",
       "  0.01553371984531085,\n",
       "  0.01526481230325377,\n",
       "  0.01544956215643607,\n",
       "  0.015450572902095415,\n",
       "  0.015196512965965595,\n",
       "  0.01600343484348674,\n",
       "  0.01568966894177912,\n",
       "  0.016381970042255972,\n",
       "  0.016380362075957635,\n",
       "  0.016218178294760556,\n",
       "  0.015750721749719535,\n",
       "  0.015478152623200642,\n",
       "  0.014826228896263739,\n",
       "  0.01524072884651343,\n",
       "  0.015228632624473803,\n",
       "  0.015569561846702743,\n",
       "  0.01554355657575237,\n",
       "  0.015681016558289476,\n",
       "  0.015788048318643756,\n",
       "  0.016124092569722415,\n",
       "  0.01569156350669573,\n",
       "  0.01642931548086008,\n",
       "  0.01680292783998754,\n",
       "  0.017072222194993786,\n",
       "  0.016995983945473428,\n",
       "  0.01680999886476406,\n",
       "  0.016971344048714008,\n",
       "  0.01683846066129538,\n",
       "  0.01683888024227626,\n",
       "  0.016623248773944447,\n",
       "  0.016881455135286737,\n",
       "  0.01708594692691394,\n",
       "  0.017139447513140633,\n",
       "  0.017112717677065122,\n",
       "  0.01687022443672062,\n",
       "  0.01685254627445818,\n",
       "  0.016720881821914526,\n",
       "  0.016365805797381613,\n",
       "  0.016220873098753776,\n",
       "  0.015891831178773207,\n",
       "  0.01598611469442615,\n",
       "  0.016543109582561416,\n",
       "  0.016476346497359448,\n",
       "  0.01652013759380525,\n",
       "  0.016622389324289437,\n",
       "  0.016451856907319453,\n",
       "  0.016622812310573182,\n",
       "  0.016543276109668183,\n",
       "  0.016681520205791344,\n",
       "  0.01718354206348871,\n",
       "  0.016990838429655368,\n",
       "  0.016776738624866363,\n",
       "  0.017148432300989624,\n",
       "  0.017378397212597964,\n",
       "  0.017156391059420857,\n",
       "  0.016822866801393808,\n",
       "  0.017195771197018567,\n",
       "  0.0172682925250408,\n",
       "  0.017309254725036225,\n",
       "  0.01724576537530112,\n",
       "  0.01685838491462583,\n",
       "  0.016796657010249127,\n",
       "  0.01682528803809402,\n",
       "  0.017322129595323116,\n",
       "  0.017795917157961933,\n",
       "  0.018449313578204927,\n",
       "  0.018540938005389928,\n",
       "  0.018768785519564898,\n",
       "  0.018889812667266328,\n",
       "  0.018983686918425807,\n",
       "  0.01934765982445439,\n",
       "  0.01927248195184651,\n",
       "  0.019272324013557073,\n",
       "  0.019318761110106688,\n",
       "  0.019308165458189256,\n",
       "  0.019065024137871506,\n",
       "  0.019035670908869654,\n",
       "  0.019127912435471232,\n",
       "  0.01920378354556335,\n",
       "  0.019166182116208862,\n",
       "  0.019107229863502308,\n",
       "  0.019087542524991917,\n",
       "  0.01896003695950845,\n",
       "  0.019045090304393747,\n",
       "  0.01919593842479115,\n",
       "  0.019018193048253276,\n",
       "  0.01909535824207082,\n",
       "  0.01906355628893205,\n",
       "  0.018706286491917277,\n",
       "  0.018901529822061273,\n",
       "  0.018830444477431662,\n",
       "  0.018897793337250817,\n",
       "  0.018759413140238986,\n",
       "  0.018718859585065754,\n",
       "  0.018642912190996046,\n",
       "  0.01873219048703431,\n",
       "  0.018782881100928323,\n",
       "  0.0189144541010748,\n",
       "  0.01879320104459797,\n",
       "  0.01869785346170145,\n",
       "  0.018488710406756,\n",
       "  0.018187488395528712,\n",
       "  0.01798975877706029,\n",
       "  0.018371164887585726,\n",
       "  0.018707223817330285,\n",
       "  0.018547499515969658,\n",
       "  0.018653403535607713,\n",
       "  0.018698261590945366,\n",
       "  0.018341288104029976,\n",
       "  0.017833988754683113,\n",
       "  0.01758621896487178,\n",
       "  0.017544777137154303,\n",
       "  0.017021455408688036,\n",
       "  0.016961181517131954,\n",
       "  0.016935068139805453,\n",
       "  0.01698343022163084,\n",
       "  0.0170487355779105,\n",
       "  0.017216236696563535,\n",
       "  0.01673653782745684,\n",
       "  0.016647297564944066,\n",
       "  0.01669788855142892,\n",
       "  0.01677808233810842,\n",
       "  0.016774850151219434,\n",
       "  0.01693623075084392,\n",
       "  0.017358756048109252,\n",
       "  0.017331893740727633,\n",
       "  0.017191027880016255,\n",
       "  0.01730785924111926,\n",
       "  0.017471553251555992,\n",
       "  0.01717043697794331,\n",
       "  0.017208001820613328,\n",
       "  0.017073435989757343,\n",
       "  0.01729717113325288,\n",
       "  0.01701053057588845,\n",
       "  0.0169698834732551,\n",
       "  0.016858978360277933,\n",
       "  0.016484239074716543,\n",
       "  0.016572861392245498,\n",
       "  0.016401669189909554,\n",
       "  0.0161342988362924,\n",
       "  0.016144930728265068,\n",
       "  0.016050408961043976,\n",
       "  0.0160485256964545,\n",
       "  0.016198519654630036,\n",
       "  0.016129197409014702,\n",
       "  0.01599602138910482,\n",
       "  0.016102803190334785,\n",
       "  0.016014726831392254,\n",
       "  0.015859855002724497,\n",
       "  0.016314306226220644,\n",
       "  0.016095368992171996,\n",
       "  0.016211938175384594,\n",
       "  0.016371546712471152,\n",
       "  0.016284281747029103,\n",
       "  0.016657010768123478,\n",
       "  0.016814253199692,\n",
       "  0.01671556796033196,\n",
       "  0.01646285836391675,\n",
       "  0.016743322780537716,\n",
       "  0.016796497740295197,\n",
       "  0.016667393898443832,\n",
       "  0.016560497955914306,\n",
       "  0.016391374541824568,\n",
       "  0.016714449634861635,\n",
       "  0.016662164454681064,\n",
       "  0.016707066957867604,\n",
       "  0.01691798387593744,\n",
       "  0.01700502092180227,\n",
       "  0.01654779635293715,\n",
       "  0.0163311876252848,\n",
       "  0.016033765930578807,\n",
       "  0.01583435110493912,\n",
       "  0.016362313668113467,\n",
       "  0.016624697040614853,\n",
       "  0.016811293396257282,\n",
       "  0.01694194981389244,\n",
       "  0.017035636021036908,\n",
       "  0.01724960917664547,\n",
       "  0.0170182656833614,\n",
       "  0.017046928745866774,\n",
       "  0.016945165488421038,\n",
       "  0.017000742342224817,\n",
       "  0.016867869525879042,\n",
       "  0.016883749084338585,\n",
       "  0.01706950582212637,\n",
       "  0.01742356224415036,\n",
       "  0.017728945862850825,\n",
       "  0.01746610812421768,\n",
       "  0.017470699734191162,\n",
       "  0.01729413096076931,\n",
       "  0.017499789289339335,\n",
       "  0.017767699704244386,\n",
       "  0.01769310552459594,\n",
       "  0.01803843874538745,\n",
       "  0.01803053768742393,\n",
       "  0.018027640387457345,\n",
       "  0.017792507763819663,\n",
       "  0.017945761213628696,\n",
       "  0.01757847684942584,\n",
       "  0.017128651549388037,\n",
       "  0.017030712160616444,\n",
       "  0.01701569474049282,\n",
       "  0.016612076663838918,\n",
       "  0.01693204986779313,\n",
       "  0.01674026444739129,\n",
       "  0.016958020453855867,\n",
       "  0.01712113679595501,\n",
       "  0.017303164087683343,\n",
       "  0.01728268474568389,\n",
       "  0.01742483729962474,\n",
       "  0.017318931245105033,\n",
       "  0.01699753098880632,\n",
       "  0.01720995132012165,\n",
       "  0.017267777257522144,\n",
       "  0.017311432336510148,\n",
       "  0.01730045155165981,\n",
       "  0.017309575757020627,\n",
       "  0.017404308445498288,\n",
       "  0.01736744938989692,\n",
       "  0.017435399768420182,\n",
       "  0.017185580528180117,\n",
       "  0.017223427580392397,\n",
       "  0.017170115697576756,\n",
       "  0.016985061867235075,\n",
       "  0.016703135588977902,\n",
       "  0.016412162075905377,\n",
       "  0.016166518624686613,\n",
       "  0.016149618329987698,\n",
       "  0.016579991491991766,\n",
       "  0.01711474658824305,\n",
       "  0.017621727857948716,\n",
       "  0.017631142449039256,\n",
       "  0.01810525550215276,\n",
       "  0.017684642533599856,\n",
       "  0.017320065319364024,\n",
       "  0.017111301488916066,\n",
       "  0.016901260125567558,\n",
       "  0.016530749446824422,\n",
       "  0.0160361023885387,\n",
       "  0.015668950045174795,\n",
       "  0.015562248166217972,\n",
       "  0.015325331327356684,\n",
       "  0.015514036141882043,\n",
       "  0.015564463919991457,\n",
       "  0.01575040593343182,\n",
       "  0.015939972300542633,\n",
       "  0.015847607797852416,\n",
       "  0.015809986692795347,\n",
       "  0.015807196758987337,\n",
       "  0.01575050106789861,\n",
       "  0.01573321755188877,\n",
       "  0.015720794144658524,\n",
       "  0.01590540585763293,\n",
       "  0.016179299710207092,\n",
       "  0.016070260436024573,\n",
       "  0.016064589535620455,\n",
       "  0.01596352287813741,\n",
       "  0.016033486782127574,\n",
       "  0.016098687626471885,\n",
       "  0.016065449490088913,\n",
       "  0.015982840400359116,\n",
       "  0.015786634877852652,\n",
       "  0.015863249041834254,\n",
       "  0.015609082949983342,\n",
       "  0.015914570340650566,\n",
       "  0.015875366204094427,\n",
       "  0.01593044471686662,\n",
       "  0.01590488506908234,\n",
       "  0.015992174507240685,\n",
       "  0.015832669569389467,\n",
       "  0.01583990622073886,\n",
       "  0.015689785484215433,\n",
       "  0.015508076634374396,\n",
       "  0.015172759169274614,\n",
       "  0.014927111621475562,\n",
       "  0.014950680862484111,\n",
       "  0.01479737614725395,\n",
       "  0.014422919407219322,\n",
       "  0.014716940794773904,\n",
       "  0.014729020400477636,\n",
       "  0.01486479518411559,\n",
       "  0.014864133364641752,\n",
       "  0.014957527681941887,\n",
       "  0.01462918507814894,\n",
       "  0.014789623406106464,\n",
       "  0.014600334520757359,\n",
       "  0.014930834894027467,\n",
       "  0.015057664622863492,\n",
       "  0.014922515156288625,\n",
       "  0.015072340153385044,\n",
       "  0.015088663825981233,\n",
       "  0.015351388688523041,\n",
       "  0.015284802198910227,\n",
       "  0.015294083578300468,\n",
       "  0.01537996226186854,\n",
       "  0.015254005222128263,\n",
       "  0.015415378601842309,\n",
       "  0.015456104414641134,\n",
       "  0.015521405288997814,\n",
       "  0.01574986837910514,\n",
       "  0.01605735524830403,\n",
       "  0.01602329579232274,\n",
       "  0.016069547709313767,\n",
       "  0.01653952461933825,\n",
       "  0.01670230904935913,\n",
       "  0.017011268449133525,\n",
       "  0.01718425447103089,\n",
       "  0.01758866182191871,\n",
       "  0.017441329253439778,\n",
       "  0.017250019108677857,\n",
       "  0.017374295815051618,\n",
       "  0.017451715071944846,\n",
       "  0.01769441382901325,\n",
       "  0.017909801849886265,\n",
       "  0.01823086473727836,\n",
       "  0.018206896712859903,\n",
       "  0.018289155696504095,\n",
       "  0.018553516443191493,\n",
       "  0.018642278682720427,\n",
       "  0.018824976611971602,\n",
       "  0.018823417692971803,\n",
       "  0.019208091960367973,\n",
       "  0.019165443658311083,\n",
       "  0.018674583044964173,\n",
       "  0.018733092265956593,\n",
       "  0.0186861768506437,\n",
       "  0.01901378058036696,\n",
       "  0.019338885638862775,\n",
       "  0.019399104315876294,\n",
       "  0.019199879534631554,\n",
       "  0.019328795238072235,\n",
       "  0.019231685193482218,\n",
       "  0.01902637536720253,\n",
       "  0.0189724947245113,\n",
       "  0.018744038425228805,\n",
       "  0.01864302264223192,\n",
       "  0.01884320076852469,\n",
       "  0.018831479433784694,\n",
       "  0.01881621216159172,\n",
       "  0.01884130510102997,\n",
       "  0.018668948127027376,\n",
       "  0.01906180082411825,\n",
       "  0.01942841783312848,\n",
       "  0.019020263367380105,\n",
       "  0.018835845273608917,\n",
       "  0.018716978434841863,\n",
       "  0.01872098605735216,\n",
       "  0.01864011399027654,\n",
       "  0.01887901788376098,\n",
       "  0.01906289151924763,\n",
       "  0.019070268799055035,\n",
       "  0.019096581119779066,\n",
       "  0.01930492136586785,\n",
       "  0.019410546848032922,\n",
       "  0.0194468694652663,\n",
       "  0.01949752639218343,\n",
       "  0.019464151678726397,\n",
       "  0.0194366514732247,\n",
       "  0.019379772863133367,\n",
       "  0.01922778508503804,\n",
       "  0.01885491137555254,\n",
       "  0.01893601930526638,\n",
       "  0.018994951875784028,\n",
       "  0.018921540223257458,\n",
       "  0.019045813079353418,\n",
       "  0.018797634613785637,\n",
       "  0.01919308692149849,\n",
       "  0.01909178745513089,\n",
       "  0.01917458105272164,\n",
       "  0.019449049644889874,\n",
       "  0.019719063020016896,\n",
       "  0.019988461961823967,\n",
       "  0.020062300922291346,\n",
       "  0.0201281623494052,\n",
       "  0.020417916557521232,\n",
       "  0.020501896193315706,\n",
       "  0.020660111834280882,\n",
       "  0.02090248368978387,\n",
       "  0.020692978188382262,\n",
       "  0.020483349479999736,\n",
       "  0.02028182677986727,\n",
       "  0.02024566270948833,\n",
       "  0.02013633825015909,\n",
       "  0.019849615730745864,\n",
       "  0.019992451925032698,\n",
       "  0.019679743803023987,\n",
       "  0.019671056623339823,\n",
       "  0.01944254671286931,\n",
       "  0.0194933904928619,\n",
       "  0.019643305594803578,\n",
       "  0.020074215147304477,\n",
       "  0.019939857595404967,\n",
       "  0.020212516158048404,\n",
       "  0.02020096858255572,\n",
       "  0.020127846745003165,\n",
       "  0.020144330706715022,\n",
       "  0.020234885232260805,\n",
       "  0.02022913782762439,\n",
       "  0.020158549932139412,\n",
       "  0.020366252225384927,\n",
       "  0.02076384020881043,\n",
       "  0.020419469113436093,\n",
       "  0.0206227793379765,\n",
       "  0.020586539778758503,\n",
       "  0.020552668754608087,\n",
       "  0.02071179615840868,\n",
       "  0.02073427418375174,\n",
       "  0.021069162581456767]}"
      ]
     },
     "execution_count": 264,
     "metadata": {},
     "output_type": "execute_result"
    }
   ],
   "source": [
    "lgb.cv(param, train_data, 500, nfold=5)"
   ]
  },
  {
   "cell_type": "code",
   "execution_count": 282,
   "metadata": {
    "collapsed": true
   },
   "outputs": [],
   "source": [
    "testdata1 = np.random.normal(size=(10000,10))\n",
    "testlabel1 = np.array([ 1 if np.dot(i[:-1],i[:-1]) > 9.34 else 0 for i in testdata1 ])\n",
    "test_data1 = lgb.Dataset(testdata1, label=testlabel1)"
   ]
  },
  {
   "cell_type": "code",
   "execution_count": 283,
   "metadata": {
    "collapsed": true
   },
   "outputs": [],
   "source": [
    "traindata1 = np.random.normal(size=(5000,10))\n",
    "trainlabel1 = np.array([ 1 if np.dot(i[:-1],i[:-1]) > 9.34 else 0 for i in traindata1 ])\n",
    "train_data1 = lgb.Dataset(traindata1, label=trainlabel1)"
   ]
  },
  {
   "cell_type": "code",
   "execution_count": 284,
   "metadata": {},
   "outputs": [
    {
     "name": "stdout",
     "output_type": "stream",
     "text": [
      "Training until validation scores don't improve for 50 rounds.\n",
      "[100]\tvalid_0's binary_logloss: 0.319377\n",
      "[200]\tvalid_0's binary_logloss: 0.231398\n",
      "[300]\tvalid_0's binary_logloss: 0.190445\n",
      "[400]\tvalid_0's binary_logloss: 0.167404\n",
      "[500]\tvalid_0's binary_logloss: 0.151675\n",
      "[600]\tvalid_0's binary_logloss: 0.141818\n",
      "[700]\tvalid_0's binary_logloss: 0.133764\n",
      "[800]\tvalid_0's binary_logloss: 0.128619\n",
      "[900]\tvalid_0's binary_logloss: 0.124943\n",
      "[1000]\tvalid_0's binary_logloss: 0.12201\n",
      "Did not meet early stopping. Best iteration is:\n",
      "[995]\tvalid_0's binary_logloss: 0.121995\n"
     ]
    }
   ],
   "source": [
    "bst = lgb.train(param, train_data1, 1000, valid_sets= test_data1, early_stopping_rounds=50\n",
    "                , verbose_eval=100)"
   ]
  },
  {
   "cell_type": "code",
   "execution_count": 285,
   "metadata": {
    "collapsed": true
   },
   "outputs": [],
   "source": [
    "testdata2 = np.random.normal(size=(10000,10))\n",
    "testlabel2 = np.array([ 1 if np.dot(i[:-1],i[:-1]) > 9.34 else 0 for i in testdata2 ])\n",
    "test_data2 = lgb.Dataset(testdata2, label=testlabel2)"
   ]
  },
  {
   "cell_type": "code",
   "execution_count": 286,
   "metadata": {
    "collapsed": true
   },
   "outputs": [],
   "source": [
    "predf = bst.predict(testdata2, num_iteration=bst.best_iteration)\n",
    "predb = [1 if i>.5 else 0 for i in predf]\n",
    "cm = confusion_matrix(testlabel2, predb)\n",
    "accuracy = accuracy_score(testlabel2, predb)"
   ]
  },
  {
   "cell_type": "code",
   "execution_count": 287,
   "metadata": {},
   "outputs": [
    {
     "data": {
      "text/plain": [
       "0.9524"
      ]
     },
     "execution_count": 287,
     "metadata": {},
     "output_type": "execute_result"
    }
   ],
   "source": [
    "accuracy"
   ]
  },
  {
   "cell_type": "code",
   "execution_count": 288,
   "metadata": {},
   "outputs": [
    {
     "data": {
      "image/png": "[encoded data removed]",
      "text/plain": [
       "<matplotlib.figure.Figure at 0x123ddf7b8>"
      ]
     },
     "metadata": {},
     "output_type": "display_data"
    }
   ],
   "source": [
    "fig, ax = plt.subplots(figsize=(12,18))\n",
    "lgb.plot_importance(bst, ax = ax)\n",
    "ax.grid(False)"
   ]
  },
  {
   "cell_type": "code",
   "execution_count": null,
   "metadata": {
    "collapsed": true
   },
   "outputs": [],
   "source": []
  }
 ],
 "metadata": {
  "kernelspec": {
   "display_name": "Python [default]",
   "language": "python",
   "name": "python3"
  },
  "language_info": {
   "codemirror_mode": {
    "name": "ipython",
    "version": 3
   },
   "file_extension": ".py",
   "mimetype": "text/x-python",
   "name": "python",
   "nbconvert_exporter": "python",
   "pygments_lexer": "ipython3",
   "version": "3.5.3"
  }
 },
 "nbformat": 4,
 "nbformat_minor": 2
}
